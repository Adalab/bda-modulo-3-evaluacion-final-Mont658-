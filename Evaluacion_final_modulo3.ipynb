{
 "cells": [
  {
   "cell_type": "markdown",
   "id": "434cd04f",
   "metadata": {},
   "source": [
    "# Importar librerias y cargar documentos"
   ]
  },
  {
   "cell_type": "code",
   "execution_count": 46,
   "id": "f8204741",
   "metadata": {},
   "outputs": [],
   "source": [
    "# Tratamiento de datos\n",
    "# -----------------------------------------------------------------------\n",
    "import pandas as pd\n",
    "import numpy as np\n",
    "import re\n",
    "\n",
    "# Imputación de nulos usando métodos avanzados estadísticos\n",
    "# -----------------------------------------------------------------------\n",
    "from sklearn.impute import SimpleImputer\n",
    "from sklearn.experimental import enable_iterative_imputer\n",
    "from sklearn.impute import IterativeImputer\n",
    "from sklearn.impute import KNNImputer\n",
    "\n",
    "# Librerías de visualización\n",
    "# -----------------------------------------------------------------------\n",
    "import seaborn as sns\n",
    "import matplotlib.pyplot as plt\n",
    "\n",
    "# Configuración\n",
    "# -----------------------------------------------------------------------\n",
    "pd.set_option('display.max_columns', None) # para poder visualizar todas las columnas de los DataFrames\n",
    "pd.set_option('display.max_rows', None) # ver todas las filas"
   ]
  },
  {
   "cell_type": "code",
   "execution_count": 47,
   "id": "f3b789a1",
   "metadata": {},
   "outputs": [],
   "source": [
    "# Cargar los datos\n",
    "# -----------------------------------------------------------------------\n",
    "df1 = pd.read_csv(\"Customer Flight Activity.csv\")\n",
    "df2 = pd.read_csv(\"Customer Loyalty History.csv\")\n"
   ]
  },
  {
   "cell_type": "markdown",
   "id": "0052e099",
   "metadata": {},
   "source": [
    "# Exploración de datos"
   ]
  },
  {
   "cell_type": "markdown",
   "id": "37a2a35d",
   "metadata": {},
   "source": [
    "Descripción de las columnas"
   ]
  },
  {
   "cell_type": "markdown",
   "id": "d6bfd4ba",
   "metadata": {},
   "source": [
    "```\n",
    "Customer Flight Analysis.csv\n",
    "Este archivo contiene información sobre la actividad de vuelo de los clientes, incluyendo el número de\n",
    "vuelos reservados, la distancia volada, puntos acumulados y redimidos, y costos asociados a los puntos\n",
    "redimidos.\n",
    "\n",
    "Loyalty Number: Este atributo representa un identificador único para cada cliente dentro del\n",
    "programa de lealtad de la aerolínea. Cada número de lealtad corresponde a un cliente específico.\n",
    "\n",
    "Year: Indica el año en el cual se registraron las actividades de vuelo para el cliente.\n",
    "\n",
    "Month: Representa el mes del año (de 1 a 12) en el cual ocurrieron las actividades de vuelo.\n",
    "\n",
    "Flights Booked: Número total de vuelos reservados por el cliente en ese mes específico.\n",
    "\n",
    "Flights with Companions: Número de vuelos reservados en los cuales el cliente viajó con\n",
    "acompañantes.\n",
    "\n",
    "Total Flights: El número total de vuelos que el cliente ha realizado, que puede incluir vuelos\n",
    "reservados en meses anteriores.\n",
    "\n",
    "Distance: La distancia total (presumiblemente en millas o kilómetros) que el cliente ha volado\n",
    "durante el mes.\n",
    "\n",
    "Points Accumulated: Puntos acumulados por el cliente en el programa de lealtad durante el mes,\n",
    "con base en la distancia volada u otros factores.\n",
    "\n",
    "Points Redeemed: Puntos que el cliente ha redimido en el mes, posiblemente para obtener\n",
    "beneficios como vuelos gratis, mejoras, etc.\n",
    "\n",
    "Dollar Cost Points Redeemed: El valor en dólares de los puntos que el cliente ha redimido durante\n",
    "el mes.\n",
    "\n",
    "Customer Loyalty History.csv\n",
    "Este archivo proporciona un perfil detallado de los clientes, incluyendo su ubicación, nivel educativo,\n",
    "ingresos, estado civil, y detalles sobre su membresía en el programa de lealtad (como el tipo de tarjeta,\n",
    "valor de vida del cliente, y fechas de inscripción y cancelación).\n",
    "\n",
    "Loyalty Number: Identificador único del cliente dentro del programa de lealtad. Este número permite\n",
    "correlacionar la información de este archivo con el archivo de actividad de vuelos.\n",
    "\n",
    "Country: País de residencia del cliente.\n",
    "\n",
    "Province: Provincia o estado de residencia del cliente (aplicable a países con divisiones provinciales\n",
    "o estatales, como Canadá).\n",
    "\n",
    "City: Ciudad de residencia del cliente.\n",
    "\n",
    "Postal Code: Código postal del cliente.\n",
    "\n",
    "Gender: Género del cliente (ej. Male para masculino y Female para femenino).\n",
    "\n",
    "Education: Nivel educativo alcanzado por el cliente (ej. Bachelor para licenciatura, College para\n",
    "estudios universitarios o técnicos, etc.).\n",
    "\n",
    "Salary: Ingreso anual estimado del cliente.\n",
    "\n",
    "Marital Status: Estado civil del cliente (ej. Single para soltero, Married para casado, Divorced para\n",
    "divorciado, etc.).\n",
    "\n",
    "Loyalty Card: Tipo de tarjeta de lealtad que posee el cliente. Esto podría indicar distintos niveles o\n",
    "categorías dentro del programa de lealtad.\n",
    "\n",
    "CLV (Customer Lifetime Value): Valor total estimado que el cliente aporta a la empresa durante\n",
    "toda la relación que mantiene con ella.\n",
    "\n",
    "Enrollment Type: Tipo de inscripción del cliente en el programa de lealtad (ej. Standard).\n",
    "\n",
    "Enrollment Year: Año en que el cliente se inscribió en el programa de lealtad.\n",
    "\n",
    "Enrollment Month: Mes en que el cliente se inscribió en el programa de lealtad.\n",
    "\n",
    "Cancellation Year: Año en que el cliente canceló su membresía en el programa de lealtad, si aplica.\n",
    "\n",
    "Cancellation Month: Mes en que el cliente canceló su membresía en el programa de lealtad, si\n",
    "aplica.\n",
    "```\n"
   ]
  },
  {
   "cell_type": "code",
   "execution_count": 48,
   "id": "89325ac1",
   "metadata": {},
   "outputs": [],
   "source": [
    "# Funcion para realizar un EDA Básico\n",
    "def eda_basico(df):\n",
    "    # 🌷 Mostrar ejemplos de datos para tener una primera idea\n",
    "    print('🌷 Ejemplo de datos del DF:')\n",
    "    display(df.head(3))    # Primeras 3 filas\n",
    "    display(df.tail(3))    # Últimas 3 filas\n",
    "    display(df.sample(3))  # 3 filas aleatorias\n",
    "    print('─' * 100)\n",
    "\n",
    "    # 🌻 Número total de filas (observaciones)\n",
    "    print('🌻 Número de filas:')\n",
    "    print(df.shape[0])\n",
    "    print('─' * 100)\n",
    "\n",
    "    # 🌱 Número total de columnas (variables)\n",
    "    print('🌱 Número de columnas:')\n",
    "    print(df.shape[1])\n",
    "    print('─' * 100)\n",
    "\n",
    "    # 🌼 Información general del DataFrame (tipos, nulos, etc.)\n",
    "    print('🌼 Información de la tabla:')\n",
    "    display(df.info())\n",
    "    print('─' * 100)\n",
    "\n",
    "    # 🌑 Lista con los nombres de las columnas\n",
    "    print('🌑 Nombre de las columnas:')\n",
    "    print(df.columns.tolist())\n",
    "    print('─' * 100)\n",
    "\n",
    "    # 🍄 Estadísticas descriptivas de columnas numéricas\n",
    "    print('🍄 Descripción de los datos numéricos:')\n",
    "    display(df.describe().T)\n",
    "    print('─' * 100)\n",
    "\n",
    "    # 🌋 Estadísticas descriptivas de columnas categóricas (si existen)\n",
    "    print('🌋 Descripción de los datos no-numéricos:')\n",
    "    if not df.select_dtypes(include='object').empty:\n",
    "        display(df.describe(include='object').T)\n",
    "    else:\n",
    "        print('📭 No hay columnas tipo \"object\" en este DataFrame.')\n",
    "    print('─' * 100)\n",
    "\n",
    "    # 🍂 Cuántos valores únicos hay en cada columna\n",
    "    print('🍂 Número de valores únicos por columna:')\n",
    "    display(df.nunique())\n",
    "    print('─' * 100)\n",
    "\n",
    "    # 🐖 Cuántos valores nulos hay en cada columna\n",
    "    print('🐖 Valores nulos por columna:')\n",
    "    display(df.isnull().sum())\n",
    "    print('─' * 100)\n",
    "\n",
    "    # 🐲 Revisión de filas duplicadas\n",
    "    print('🐲 Filas duplicadas:')\n",
    "    duplicados = df.duplicated().sum()\n",
    "    if duplicados > 0:\n",
    "        print(f'📛 Hay {duplicados} filas duplicadas.')\n",
    "        display(df[df.duplicated()].head(3))\n",
    "    else:\n",
    "        print('✅ No hay filas duplicadas.')\n",
    "    print('─' * 100)\n",
    "\n",
    "    # 🪹 Columnas constantes (con solo un valor único)\n",
    "    print('🪹 Columnas constantes (solo un valor):')\n",
    "    constantes = df.columns[df.nunique() <= 1]\n",
    "    if not constantes.empty:\n",
    "        print(f'📌 {len(constantes)} columnas con solo un valor:')\n",
    "        display(constantes.tolist())\n",
    "    else:\n",
    "        print('✅ No hay columnas constantes.')\n",
    "    print('─' * 100)\n",
    "\n",
    "    # 🚀 Ver valores únicos de columnas categóricas (si existen)\n",
    "    print('🚀 Valores únicos en columnas categóricas:')\n",
    "    cat_cols = df.select_dtypes(include='object')\n",
    "    if not cat_cols.empty:\n",
    "        for col in cat_cols.columns:\n",
    "            print(f'🔸 {col}')\n",
    "            print(cat_cols[col].unique())\n",
    "            print('─' * 60)\n",
    "    else:\n",
    "        print('📭 No hay columnas categóricas.')\n",
    "    print('─' * 100)\n",
    "\n",
    "    # 🧬 Resumen de tipos de datos presentes en el DataFrame\n",
    "    print('🧬 Tipos de datos por columna:')\n",
    "    display(df.dtypes.value_counts())\n",
    "    print('─' * 100)\n"
   ]
  },
  {
   "cell_type": "code",
   "execution_count": 49,
   "id": "ca915288",
   "metadata": {},
   "outputs": [
    {
     "name": "stdout",
     "output_type": "stream",
     "text": [
      "🌷 Ejemplo de datos del DF:\n"
     ]
    },
    {
     "data": {
      "application/vnd.microsoft.datawrangler.viewer.v0+json": {
       "columns": [
        {
         "name": "index",
         "rawType": "int64",
         "type": "integer"
        },
        {
         "name": "Loyalty Number",
         "rawType": "int64",
         "type": "integer"
        },
        {
         "name": "Year",
         "rawType": "int64",
         "type": "integer"
        },
        {
         "name": "Month",
         "rawType": "int64",
         "type": "integer"
        },
        {
         "name": "Flights Booked",
         "rawType": "int64",
         "type": "integer"
        },
        {
         "name": "Flights with Companions",
         "rawType": "int64",
         "type": "integer"
        },
        {
         "name": "Total Flights",
         "rawType": "int64",
         "type": "integer"
        },
        {
         "name": "Distance",
         "rawType": "int64",
         "type": "integer"
        },
        {
         "name": "Points Accumulated",
         "rawType": "float64",
         "type": "float"
        },
        {
         "name": "Points Redeemed",
         "rawType": "int64",
         "type": "integer"
        },
        {
         "name": "Dollar Cost Points Redeemed",
         "rawType": "int64",
         "type": "integer"
        }
       ],
       "ref": "96ab07d6-d403-45bf-a20d-de9dcb2a09e5",
       "rows": [
        [
         "0",
         "100018",
         "2017",
         "1",
         "3",
         "0",
         "3",
         "1521",
         "152.0",
         "0",
         "0"
        ],
        [
         "1",
         "100102",
         "2017",
         "1",
         "10",
         "4",
         "14",
         "2030",
         "203.0",
         "0",
         "0"
        ],
        [
         "2",
         "100140",
         "2017",
         "1",
         "6",
         "0",
         "6",
         "1200",
         "120.0",
         "0",
         "0"
        ]
       ],
       "shape": {
        "columns": 10,
        "rows": 3
       }
      },
      "text/html": [
       "<div>\n",
       "<style scoped>\n",
       "    .dataframe tbody tr th:only-of-type {\n",
       "        vertical-align: middle;\n",
       "    }\n",
       "\n",
       "    .dataframe tbody tr th {\n",
       "        vertical-align: top;\n",
       "    }\n",
       "\n",
       "    .dataframe thead th {\n",
       "        text-align: right;\n",
       "    }\n",
       "</style>\n",
       "<table border=\"1\" class=\"dataframe\">\n",
       "  <thead>\n",
       "    <tr style=\"text-align: right;\">\n",
       "      <th></th>\n",
       "      <th>Loyalty Number</th>\n",
       "      <th>Year</th>\n",
       "      <th>Month</th>\n",
       "      <th>Flights Booked</th>\n",
       "      <th>Flights with Companions</th>\n",
       "      <th>Total Flights</th>\n",
       "      <th>Distance</th>\n",
       "      <th>Points Accumulated</th>\n",
       "      <th>Points Redeemed</th>\n",
       "      <th>Dollar Cost Points Redeemed</th>\n",
       "    </tr>\n",
       "  </thead>\n",
       "  <tbody>\n",
       "    <tr>\n",
       "      <th>0</th>\n",
       "      <td>100018</td>\n",
       "      <td>2017</td>\n",
       "      <td>1</td>\n",
       "      <td>3</td>\n",
       "      <td>0</td>\n",
       "      <td>3</td>\n",
       "      <td>1521</td>\n",
       "      <td>152.0</td>\n",
       "      <td>0</td>\n",
       "      <td>0</td>\n",
       "    </tr>\n",
       "    <tr>\n",
       "      <th>1</th>\n",
       "      <td>100102</td>\n",
       "      <td>2017</td>\n",
       "      <td>1</td>\n",
       "      <td>10</td>\n",
       "      <td>4</td>\n",
       "      <td>14</td>\n",
       "      <td>2030</td>\n",
       "      <td>203.0</td>\n",
       "      <td>0</td>\n",
       "      <td>0</td>\n",
       "    </tr>\n",
       "    <tr>\n",
       "      <th>2</th>\n",
       "      <td>100140</td>\n",
       "      <td>2017</td>\n",
       "      <td>1</td>\n",
       "      <td>6</td>\n",
       "      <td>0</td>\n",
       "      <td>6</td>\n",
       "      <td>1200</td>\n",
       "      <td>120.0</td>\n",
       "      <td>0</td>\n",
       "      <td>0</td>\n",
       "    </tr>\n",
       "  </tbody>\n",
       "</table>\n",
       "</div>"
      ],
      "text/plain": [
       "   Loyalty Number  Year  Month  Flights Booked  Flights with Companions  \\\n",
       "0          100018  2017      1               3                        0   \n",
       "1          100102  2017      1              10                        4   \n",
       "2          100140  2017      1               6                        0   \n",
       "\n",
       "   Total Flights  Distance  Points Accumulated  Points Redeemed  \\\n",
       "0              3      1521               152.0                0   \n",
       "1             14      2030               203.0                0   \n",
       "2              6      1200               120.0                0   \n",
       "\n",
       "   Dollar Cost Points Redeemed  \n",
       "0                            0  \n",
       "1                            0  \n",
       "2                            0  "
      ]
     },
     "metadata": {},
     "output_type": "display_data"
    },
    {
     "data": {
      "application/vnd.microsoft.datawrangler.viewer.v0+json": {
       "columns": [
        {
         "name": "index",
         "rawType": "int64",
         "type": "integer"
        },
        {
         "name": "Loyalty Number",
         "rawType": "int64",
         "type": "integer"
        },
        {
         "name": "Year",
         "rawType": "int64",
         "type": "integer"
        },
        {
         "name": "Month",
         "rawType": "int64",
         "type": "integer"
        },
        {
         "name": "Flights Booked",
         "rawType": "int64",
         "type": "integer"
        },
        {
         "name": "Flights with Companions",
         "rawType": "int64",
         "type": "integer"
        },
        {
         "name": "Total Flights",
         "rawType": "int64",
         "type": "integer"
        },
        {
         "name": "Distance",
         "rawType": "int64",
         "type": "integer"
        },
        {
         "name": "Points Accumulated",
         "rawType": "float64",
         "type": "float"
        },
        {
         "name": "Points Redeemed",
         "rawType": "int64",
         "type": "integer"
        },
        {
         "name": "Dollar Cost Points Redeemed",
         "rawType": "int64",
         "type": "integer"
        }
       ],
       "ref": "511b2d25-a227-4721-a0e4-6b1e2cce9b23",
       "rows": [
        [
         "405621",
         "999940",
         "2018",
         "12",
         "3",
         "0",
         "3",
         "1233",
         "123.0",
         "0",
         "0"
        ],
        [
         "405622",
         "999982",
         "2018",
         "12",
         "0",
         "0",
         "0",
         "0",
         "0.0",
         "0",
         "0"
        ],
        [
         "405623",
         "999986",
         "2018",
         "12",
         "0",
         "0",
         "0",
         "0",
         "0.0",
         "0",
         "0"
        ]
       ],
       "shape": {
        "columns": 10,
        "rows": 3
       }
      },
      "text/html": [
       "<div>\n",
       "<style scoped>\n",
       "    .dataframe tbody tr th:only-of-type {\n",
       "        vertical-align: middle;\n",
       "    }\n",
       "\n",
       "    .dataframe tbody tr th {\n",
       "        vertical-align: top;\n",
       "    }\n",
       "\n",
       "    .dataframe thead th {\n",
       "        text-align: right;\n",
       "    }\n",
       "</style>\n",
       "<table border=\"1\" class=\"dataframe\">\n",
       "  <thead>\n",
       "    <tr style=\"text-align: right;\">\n",
       "      <th></th>\n",
       "      <th>Loyalty Number</th>\n",
       "      <th>Year</th>\n",
       "      <th>Month</th>\n",
       "      <th>Flights Booked</th>\n",
       "      <th>Flights with Companions</th>\n",
       "      <th>Total Flights</th>\n",
       "      <th>Distance</th>\n",
       "      <th>Points Accumulated</th>\n",
       "      <th>Points Redeemed</th>\n",
       "      <th>Dollar Cost Points Redeemed</th>\n",
       "    </tr>\n",
       "  </thead>\n",
       "  <tbody>\n",
       "    <tr>\n",
       "      <th>405621</th>\n",
       "      <td>999940</td>\n",
       "      <td>2018</td>\n",
       "      <td>12</td>\n",
       "      <td>3</td>\n",
       "      <td>0</td>\n",
       "      <td>3</td>\n",
       "      <td>1233</td>\n",
       "      <td>123.0</td>\n",
       "      <td>0</td>\n",
       "      <td>0</td>\n",
       "    </tr>\n",
       "    <tr>\n",
       "      <th>405622</th>\n",
       "      <td>999982</td>\n",
       "      <td>2018</td>\n",
       "      <td>12</td>\n",
       "      <td>0</td>\n",
       "      <td>0</td>\n",
       "      <td>0</td>\n",
       "      <td>0</td>\n",
       "      <td>0.0</td>\n",
       "      <td>0</td>\n",
       "      <td>0</td>\n",
       "    </tr>\n",
       "    <tr>\n",
       "      <th>405623</th>\n",
       "      <td>999986</td>\n",
       "      <td>2018</td>\n",
       "      <td>12</td>\n",
       "      <td>0</td>\n",
       "      <td>0</td>\n",
       "      <td>0</td>\n",
       "      <td>0</td>\n",
       "      <td>0.0</td>\n",
       "      <td>0</td>\n",
       "      <td>0</td>\n",
       "    </tr>\n",
       "  </tbody>\n",
       "</table>\n",
       "</div>"
      ],
      "text/plain": [
       "        Loyalty Number  Year  Month  Flights Booked  Flights with Companions  \\\n",
       "405621          999940  2018     12               3                        0   \n",
       "405622          999982  2018     12               0                        0   \n",
       "405623          999986  2018     12               0                        0   \n",
       "\n",
       "        Total Flights  Distance  Points Accumulated  Points Redeemed  \\\n",
       "405621              3      1233               123.0                0   \n",
       "405622              0         0                 0.0                0   \n",
       "405623              0         0                 0.0                0   \n",
       "\n",
       "        Dollar Cost Points Redeemed  \n",
       "405621                            0  \n",
       "405622                            0  \n",
       "405623                            0  "
      ]
     },
     "metadata": {},
     "output_type": "display_data"
    },
    {
     "data": {
      "application/vnd.microsoft.datawrangler.viewer.v0+json": {
       "columns": [
        {
         "name": "index",
         "rawType": "int64",
         "type": "integer"
        },
        {
         "name": "Loyalty Number",
         "rawType": "int64",
         "type": "integer"
        },
        {
         "name": "Year",
         "rawType": "int64",
         "type": "integer"
        },
        {
         "name": "Month",
         "rawType": "int64",
         "type": "integer"
        },
        {
         "name": "Flights Booked",
         "rawType": "int64",
         "type": "integer"
        },
        {
         "name": "Flights with Companions",
         "rawType": "int64",
         "type": "integer"
        },
        {
         "name": "Total Flights",
         "rawType": "int64",
         "type": "integer"
        },
        {
         "name": "Distance",
         "rawType": "int64",
         "type": "integer"
        },
        {
         "name": "Points Accumulated",
         "rawType": "float64",
         "type": "float"
        },
        {
         "name": "Points Redeemed",
         "rawType": "int64",
         "type": "integer"
        },
        {
         "name": "Dollar Cost Points Redeemed",
         "rawType": "int64",
         "type": "integer"
        }
       ],
       "ref": "de96b977-c20b-4a54-adfd-d12e245e5fff",
       "rows": [
        [
         "16931",
         "101544",
         "2017",
         "2",
         "7",
         "6",
         "13",
         "1768",
         "176.0",
         "0",
         "0"
        ],
        [
         "307786",
         "290964",
         "2018",
         "7",
         "5",
         "5",
         "10",
         "3650",
         "365.0",
         "0",
         "0"
        ],
        [
         "118165",
         "992002",
         "2017",
         "7",
         "3",
         "3",
         "6",
         "2496",
         "249.0",
         "0",
         "0"
        ]
       ],
       "shape": {
        "columns": 10,
        "rows": 3
       }
      },
      "text/html": [
       "<div>\n",
       "<style scoped>\n",
       "    .dataframe tbody tr th:only-of-type {\n",
       "        vertical-align: middle;\n",
       "    }\n",
       "\n",
       "    .dataframe tbody tr th {\n",
       "        vertical-align: top;\n",
       "    }\n",
       "\n",
       "    .dataframe thead th {\n",
       "        text-align: right;\n",
       "    }\n",
       "</style>\n",
       "<table border=\"1\" class=\"dataframe\">\n",
       "  <thead>\n",
       "    <tr style=\"text-align: right;\">\n",
       "      <th></th>\n",
       "      <th>Loyalty Number</th>\n",
       "      <th>Year</th>\n",
       "      <th>Month</th>\n",
       "      <th>Flights Booked</th>\n",
       "      <th>Flights with Companions</th>\n",
       "      <th>Total Flights</th>\n",
       "      <th>Distance</th>\n",
       "      <th>Points Accumulated</th>\n",
       "      <th>Points Redeemed</th>\n",
       "      <th>Dollar Cost Points Redeemed</th>\n",
       "    </tr>\n",
       "  </thead>\n",
       "  <tbody>\n",
       "    <tr>\n",
       "      <th>16931</th>\n",
       "      <td>101544</td>\n",
       "      <td>2017</td>\n",
       "      <td>2</td>\n",
       "      <td>7</td>\n",
       "      <td>6</td>\n",
       "      <td>13</td>\n",
       "      <td>1768</td>\n",
       "      <td>176.0</td>\n",
       "      <td>0</td>\n",
       "      <td>0</td>\n",
       "    </tr>\n",
       "    <tr>\n",
       "      <th>307786</th>\n",
       "      <td>290964</td>\n",
       "      <td>2018</td>\n",
       "      <td>7</td>\n",
       "      <td>5</td>\n",
       "      <td>5</td>\n",
       "      <td>10</td>\n",
       "      <td>3650</td>\n",
       "      <td>365.0</td>\n",
       "      <td>0</td>\n",
       "      <td>0</td>\n",
       "    </tr>\n",
       "    <tr>\n",
       "      <th>118165</th>\n",
       "      <td>992002</td>\n",
       "      <td>2017</td>\n",
       "      <td>7</td>\n",
       "      <td>3</td>\n",
       "      <td>3</td>\n",
       "      <td>6</td>\n",
       "      <td>2496</td>\n",
       "      <td>249.0</td>\n",
       "      <td>0</td>\n",
       "      <td>0</td>\n",
       "    </tr>\n",
       "  </tbody>\n",
       "</table>\n",
       "</div>"
      ],
      "text/plain": [
       "        Loyalty Number  Year  Month  Flights Booked  Flights with Companions  \\\n",
       "16931           101544  2017      2               7                        6   \n",
       "307786          290964  2018      7               5                        5   \n",
       "118165          992002  2017      7               3                        3   \n",
       "\n",
       "        Total Flights  Distance  Points Accumulated  Points Redeemed  \\\n",
       "16931              13      1768               176.0                0   \n",
       "307786             10      3650               365.0                0   \n",
       "118165              6      2496               249.0                0   \n",
       "\n",
       "        Dollar Cost Points Redeemed  \n",
       "16931                             0  \n",
       "307786                            0  \n",
       "118165                            0  "
      ]
     },
     "metadata": {},
     "output_type": "display_data"
    },
    {
     "name": "stdout",
     "output_type": "stream",
     "text": [
      "────────────────────────────────────────────────────────────────────────────────────────────────────\n",
      "🌻 Número de filas:\n",
      "405624\n",
      "────────────────────────────────────────────────────────────────────────────────────────────────────\n",
      "🌱 Número de columnas:\n",
      "10\n",
      "────────────────────────────────────────────────────────────────────────────────────────────────────\n",
      "🌼 Información de la tabla:\n",
      "<class 'pandas.core.frame.DataFrame'>\n",
      "RangeIndex: 405624 entries, 0 to 405623\n",
      "Data columns (total 10 columns):\n",
      " #   Column                       Non-Null Count   Dtype  \n",
      "---  ------                       --------------   -----  \n",
      " 0   Loyalty Number               405624 non-null  int64  \n",
      " 1   Year                         405624 non-null  int64  \n",
      " 2   Month                        405624 non-null  int64  \n",
      " 3   Flights Booked               405624 non-null  int64  \n",
      " 4   Flights with Companions      405624 non-null  int64  \n",
      " 5   Total Flights                405624 non-null  int64  \n",
      " 6   Distance                     405624 non-null  int64  \n",
      " 7   Points Accumulated           405624 non-null  float64\n",
      " 8   Points Redeemed              405624 non-null  int64  \n",
      " 9   Dollar Cost Points Redeemed  405624 non-null  int64  \n",
      "dtypes: float64(1), int64(9)\n",
      "memory usage: 30.9 MB\n"
     ]
    },
    {
     "data": {
      "text/plain": [
       "None"
      ]
     },
     "metadata": {},
     "output_type": "display_data"
    },
    {
     "name": "stdout",
     "output_type": "stream",
     "text": [
      "────────────────────────────────────────────────────────────────────────────────────────────────────\n",
      "🌑 Nombre de las columnas:\n",
      "['Loyalty Number', 'Year', 'Month', 'Flights Booked', 'Flights with Companions', 'Total Flights', 'Distance', 'Points Accumulated', 'Points Redeemed', 'Dollar Cost Points Redeemed']\n",
      "────────────────────────────────────────────────────────────────────────────────────────────────────\n",
      "🍄 Descripción de los datos numéricos:\n"
     ]
    },
    {
     "data": {
      "application/vnd.microsoft.datawrangler.viewer.v0+json": {
       "columns": [
        {
         "name": "index",
         "rawType": "object",
         "type": "string"
        },
        {
         "name": "count",
         "rawType": "float64",
         "type": "float"
        },
        {
         "name": "mean",
         "rawType": "float64",
         "type": "float"
        },
        {
         "name": "std",
         "rawType": "float64",
         "type": "float"
        },
        {
         "name": "min",
         "rawType": "float64",
         "type": "float"
        },
        {
         "name": "25%",
         "rawType": "float64",
         "type": "float"
        },
        {
         "name": "50%",
         "rawType": "float64",
         "type": "float"
        },
        {
         "name": "75%",
         "rawType": "float64",
         "type": "float"
        },
        {
         "name": "max",
         "rawType": "float64",
         "type": "float"
        }
       ],
       "ref": "3c03d8a0-006e-4c6d-8e2a-967fb844a78b",
       "rows": [
        [
         "Loyalty Number",
         "405624.0",
         "550037.8730844329",
         "258935.2869685325",
         "100018.0",
         "326961.0",
         "550834.0",
         "772194.0",
         "999986.0"
        ],
        [
         "Year",
         "405624.0",
         "2017.5",
         "0.5000006163354788",
         "2017.0",
         "2017.0",
         "2017.5",
         "2018.0",
         "2018.0"
        ],
        [
         "Month",
         "405624.0",
         "6.5",
         "3.4520567847795607",
         "1.0",
         "3.75",
         "6.5",
         "9.25",
         "12.0"
        ],
        [
         "Flights Booked",
         "405624.0",
         "4.115052363765457",
         "5.225518362156165",
         "0.0",
         "0.0",
         "1.0",
         "8.0",
         "21.0"
        ],
        [
         "Flights with Companions",
         "405624.0",
         "1.031805317239611",
         "2.0768693438648906",
         "0.0",
         "0.0",
         "0.0",
         "1.0",
         "11.0"
        ],
        [
         "Total Flights",
         "405624.0",
         "5.146857681005069",
         "6.5212274242571455",
         "0.0",
         "0.0",
         "1.0",
         "10.0",
         "32.0"
        ],
        [
         "Distance",
         "405624.0",
         "1208.880058872256",
         "1433.1553197944165",
         "0.0",
         "0.0",
         "488.0",
         "2336.0",
         "6293.0"
        ],
        [
         "Points Accumulated",
         "405624.0",
         "123.69272096818729",
         "146.5998314548659",
         "0.0",
         "0.0",
         "50.0",
         "239.0",
         "676.5"
        ],
        [
         "Points Redeemed",
         "405624.0",
         "30.696871979961738",
         "125.4860493182356",
         "0.0",
         "0.0",
         "0.0",
         "0.0",
         "876.0"
        ],
        [
         "Dollar Cost Points Redeemed",
         "405624.0",
         "2.484502889375382",
         "10.150037777718726",
         "0.0",
         "0.0",
         "0.0",
         "0.0",
         "71.0"
        ]
       ],
       "shape": {
        "columns": 8,
        "rows": 10
       }
      },
      "text/html": [
       "<div>\n",
       "<style scoped>\n",
       "    .dataframe tbody tr th:only-of-type {\n",
       "        vertical-align: middle;\n",
       "    }\n",
       "\n",
       "    .dataframe tbody tr th {\n",
       "        vertical-align: top;\n",
       "    }\n",
       "\n",
       "    .dataframe thead th {\n",
       "        text-align: right;\n",
       "    }\n",
       "</style>\n",
       "<table border=\"1\" class=\"dataframe\">\n",
       "  <thead>\n",
       "    <tr style=\"text-align: right;\">\n",
       "      <th></th>\n",
       "      <th>count</th>\n",
       "      <th>mean</th>\n",
       "      <th>std</th>\n",
       "      <th>min</th>\n",
       "      <th>25%</th>\n",
       "      <th>50%</th>\n",
       "      <th>75%</th>\n",
       "      <th>max</th>\n",
       "    </tr>\n",
       "  </thead>\n",
       "  <tbody>\n",
       "    <tr>\n",
       "      <th>Loyalty Number</th>\n",
       "      <td>405624.0</td>\n",
       "      <td>550037.873084</td>\n",
       "      <td>258935.286969</td>\n",
       "      <td>100018.0</td>\n",
       "      <td>326961.00</td>\n",
       "      <td>550834.0</td>\n",
       "      <td>772194.00</td>\n",
       "      <td>999986.0</td>\n",
       "    </tr>\n",
       "    <tr>\n",
       "      <th>Year</th>\n",
       "      <td>405624.0</td>\n",
       "      <td>2017.500000</td>\n",
       "      <td>0.500001</td>\n",
       "      <td>2017.0</td>\n",
       "      <td>2017.00</td>\n",
       "      <td>2017.5</td>\n",
       "      <td>2018.00</td>\n",
       "      <td>2018.0</td>\n",
       "    </tr>\n",
       "    <tr>\n",
       "      <th>Month</th>\n",
       "      <td>405624.0</td>\n",
       "      <td>6.500000</td>\n",
       "      <td>3.452057</td>\n",
       "      <td>1.0</td>\n",
       "      <td>3.75</td>\n",
       "      <td>6.5</td>\n",
       "      <td>9.25</td>\n",
       "      <td>12.0</td>\n",
       "    </tr>\n",
       "    <tr>\n",
       "      <th>Flights Booked</th>\n",
       "      <td>405624.0</td>\n",
       "      <td>4.115052</td>\n",
       "      <td>5.225518</td>\n",
       "      <td>0.0</td>\n",
       "      <td>0.00</td>\n",
       "      <td>1.0</td>\n",
       "      <td>8.00</td>\n",
       "      <td>21.0</td>\n",
       "    </tr>\n",
       "    <tr>\n",
       "      <th>Flights with Companions</th>\n",
       "      <td>405624.0</td>\n",
       "      <td>1.031805</td>\n",
       "      <td>2.076869</td>\n",
       "      <td>0.0</td>\n",
       "      <td>0.00</td>\n",
       "      <td>0.0</td>\n",
       "      <td>1.00</td>\n",
       "      <td>11.0</td>\n",
       "    </tr>\n",
       "    <tr>\n",
       "      <th>Total Flights</th>\n",
       "      <td>405624.0</td>\n",
       "      <td>5.146858</td>\n",
       "      <td>6.521227</td>\n",
       "      <td>0.0</td>\n",
       "      <td>0.00</td>\n",
       "      <td>1.0</td>\n",
       "      <td>10.00</td>\n",
       "      <td>32.0</td>\n",
       "    </tr>\n",
       "    <tr>\n",
       "      <th>Distance</th>\n",
       "      <td>405624.0</td>\n",
       "      <td>1208.880059</td>\n",
       "      <td>1433.155320</td>\n",
       "      <td>0.0</td>\n",
       "      <td>0.00</td>\n",
       "      <td>488.0</td>\n",
       "      <td>2336.00</td>\n",
       "      <td>6293.0</td>\n",
       "    </tr>\n",
       "    <tr>\n",
       "      <th>Points Accumulated</th>\n",
       "      <td>405624.0</td>\n",
       "      <td>123.692721</td>\n",
       "      <td>146.599831</td>\n",
       "      <td>0.0</td>\n",
       "      <td>0.00</td>\n",
       "      <td>50.0</td>\n",
       "      <td>239.00</td>\n",
       "      <td>676.5</td>\n",
       "    </tr>\n",
       "    <tr>\n",
       "      <th>Points Redeemed</th>\n",
       "      <td>405624.0</td>\n",
       "      <td>30.696872</td>\n",
       "      <td>125.486049</td>\n",
       "      <td>0.0</td>\n",
       "      <td>0.00</td>\n",
       "      <td>0.0</td>\n",
       "      <td>0.00</td>\n",
       "      <td>876.0</td>\n",
       "    </tr>\n",
       "    <tr>\n",
       "      <th>Dollar Cost Points Redeemed</th>\n",
       "      <td>405624.0</td>\n",
       "      <td>2.484503</td>\n",
       "      <td>10.150038</td>\n",
       "      <td>0.0</td>\n",
       "      <td>0.00</td>\n",
       "      <td>0.0</td>\n",
       "      <td>0.00</td>\n",
       "      <td>71.0</td>\n",
       "    </tr>\n",
       "  </tbody>\n",
       "</table>\n",
       "</div>"
      ],
      "text/plain": [
       "                                count           mean            std       min  \\\n",
       "Loyalty Number               405624.0  550037.873084  258935.286969  100018.0   \n",
       "Year                         405624.0    2017.500000       0.500001    2017.0   \n",
       "Month                        405624.0       6.500000       3.452057       1.0   \n",
       "Flights Booked               405624.0       4.115052       5.225518       0.0   \n",
       "Flights with Companions      405624.0       1.031805       2.076869       0.0   \n",
       "Total Flights                405624.0       5.146858       6.521227       0.0   \n",
       "Distance                     405624.0    1208.880059    1433.155320       0.0   \n",
       "Points Accumulated           405624.0     123.692721     146.599831       0.0   \n",
       "Points Redeemed              405624.0      30.696872     125.486049       0.0   \n",
       "Dollar Cost Points Redeemed  405624.0       2.484503      10.150038       0.0   \n",
       "\n",
       "                                   25%       50%        75%       max  \n",
       "Loyalty Number               326961.00  550834.0  772194.00  999986.0  \n",
       "Year                           2017.00    2017.5    2018.00    2018.0  \n",
       "Month                             3.75       6.5       9.25      12.0  \n",
       "Flights Booked                    0.00       1.0       8.00      21.0  \n",
       "Flights with Companions           0.00       0.0       1.00      11.0  \n",
       "Total Flights                     0.00       1.0      10.00      32.0  \n",
       "Distance                          0.00     488.0    2336.00    6293.0  \n",
       "Points Accumulated                0.00      50.0     239.00     676.5  \n",
       "Points Redeemed                   0.00       0.0       0.00     876.0  \n",
       "Dollar Cost Points Redeemed       0.00       0.0       0.00      71.0  "
      ]
     },
     "metadata": {},
     "output_type": "display_data"
    },
    {
     "name": "stdout",
     "output_type": "stream",
     "text": [
      "────────────────────────────────────────────────────────────────────────────────────────────────────\n",
      "🌋 Descripción de los datos no-numéricos:\n",
      "📭 No hay columnas tipo \"object\" en este DataFrame.\n",
      "────────────────────────────────────────────────────────────────────────────────────────────────────\n",
      "🍂 Número de valores únicos por columna:\n"
     ]
    },
    {
     "data": {
      "application/vnd.microsoft.datawrangler.viewer.v0+json": {
       "columns": [
        {
         "name": "index",
         "rawType": "object",
         "type": "string"
        },
        {
         "name": "0",
         "rawType": "int64",
         "type": "integer"
        }
       ],
       "ref": "db013698-fe21-49f4-919d-489db333ebca",
       "rows": [
        [
         "Loyalty Number",
         "16737"
        ],
        [
         "Year",
         "2"
        ],
        [
         "Month",
         "12"
        ],
        [
         "Flights Booked",
         "22"
        ],
        [
         "Flights with Companions",
         "12"
        ],
        [
         "Total Flights",
         "33"
        ],
        [
         "Distance",
         "4746"
        ],
        [
         "Points Accumulated",
         "1549"
        ],
        [
         "Points Redeemed",
         "587"
        ],
        [
         "Dollar Cost Points Redeemed",
         "49"
        ]
       ],
       "shape": {
        "columns": 1,
        "rows": 10
       }
      },
      "text/plain": [
       "Loyalty Number                 16737\n",
       "Year                               2\n",
       "Month                             12\n",
       "Flights Booked                    22\n",
       "Flights with Companions           12\n",
       "Total Flights                     33\n",
       "Distance                        4746\n",
       "Points Accumulated              1549\n",
       "Points Redeemed                  587\n",
       "Dollar Cost Points Redeemed       49\n",
       "dtype: int64"
      ]
     },
     "metadata": {},
     "output_type": "display_data"
    },
    {
     "name": "stdout",
     "output_type": "stream",
     "text": [
      "────────────────────────────────────────────────────────────────────────────────────────────────────\n",
      "🐖 Valores nulos por columna:\n"
     ]
    },
    {
     "data": {
      "application/vnd.microsoft.datawrangler.viewer.v0+json": {
       "columns": [
        {
         "name": "index",
         "rawType": "object",
         "type": "string"
        },
        {
         "name": "0",
         "rawType": "int64",
         "type": "integer"
        }
       ],
       "ref": "2a7b4e13-95af-473c-b188-d51f81f08c29",
       "rows": [
        [
         "Loyalty Number",
         "0"
        ],
        [
         "Year",
         "0"
        ],
        [
         "Month",
         "0"
        ],
        [
         "Flights Booked",
         "0"
        ],
        [
         "Flights with Companions",
         "0"
        ],
        [
         "Total Flights",
         "0"
        ],
        [
         "Distance",
         "0"
        ],
        [
         "Points Accumulated",
         "0"
        ],
        [
         "Points Redeemed",
         "0"
        ],
        [
         "Dollar Cost Points Redeemed",
         "0"
        ]
       ],
       "shape": {
        "columns": 1,
        "rows": 10
       }
      },
      "text/plain": [
       "Loyalty Number                 0\n",
       "Year                           0\n",
       "Month                          0\n",
       "Flights Booked                 0\n",
       "Flights with Companions        0\n",
       "Total Flights                  0\n",
       "Distance                       0\n",
       "Points Accumulated             0\n",
       "Points Redeemed                0\n",
       "Dollar Cost Points Redeemed    0\n",
       "dtype: int64"
      ]
     },
     "metadata": {},
     "output_type": "display_data"
    },
    {
     "name": "stdout",
     "output_type": "stream",
     "text": [
      "────────────────────────────────────────────────────────────────────────────────────────────────────\n",
      "🐲 Filas duplicadas:\n",
      "📛 Hay 1864 filas duplicadas.\n"
     ]
    },
    {
     "data": {
      "application/vnd.microsoft.datawrangler.viewer.v0+json": {
       "columns": [
        {
         "name": "index",
         "rawType": "int64",
         "type": "integer"
        },
        {
         "name": "Loyalty Number",
         "rawType": "int64",
         "type": "integer"
        },
        {
         "name": "Year",
         "rawType": "int64",
         "type": "integer"
        },
        {
         "name": "Month",
         "rawType": "int64",
         "type": "integer"
        },
        {
         "name": "Flights Booked",
         "rawType": "int64",
         "type": "integer"
        },
        {
         "name": "Flights with Companions",
         "rawType": "int64",
         "type": "integer"
        },
        {
         "name": "Total Flights",
         "rawType": "int64",
         "type": "integer"
        },
        {
         "name": "Distance",
         "rawType": "int64",
         "type": "integer"
        },
        {
         "name": "Points Accumulated",
         "rawType": "float64",
         "type": "float"
        },
        {
         "name": "Points Redeemed",
         "rawType": "int64",
         "type": "integer"
        },
        {
         "name": "Dollar Cost Points Redeemed",
         "rawType": "int64",
         "type": "integer"
        }
       ],
       "ref": "33cfa31f-5401-4eea-8b5a-af0b0b3ecbe9",
       "rows": [
        [
         "42",
         "101902",
         "2017",
         "1",
         "0",
         "0",
         "0",
         "0",
         "0.0",
         "0",
         "0"
        ],
        [
         "227",
         "112142",
         "2017",
         "1",
         "0",
         "0",
         "0",
         "0",
         "0.0",
         "0",
         "0"
        ],
        [
         "478",
         "126100",
         "2017",
         "1",
         "0",
         "0",
         "0",
         "0",
         "0.0",
         "0",
         "0"
        ]
       ],
       "shape": {
        "columns": 10,
        "rows": 3
       }
      },
      "text/html": [
       "<div>\n",
       "<style scoped>\n",
       "    .dataframe tbody tr th:only-of-type {\n",
       "        vertical-align: middle;\n",
       "    }\n",
       "\n",
       "    .dataframe tbody tr th {\n",
       "        vertical-align: top;\n",
       "    }\n",
       "\n",
       "    .dataframe thead th {\n",
       "        text-align: right;\n",
       "    }\n",
       "</style>\n",
       "<table border=\"1\" class=\"dataframe\">\n",
       "  <thead>\n",
       "    <tr style=\"text-align: right;\">\n",
       "      <th></th>\n",
       "      <th>Loyalty Number</th>\n",
       "      <th>Year</th>\n",
       "      <th>Month</th>\n",
       "      <th>Flights Booked</th>\n",
       "      <th>Flights with Companions</th>\n",
       "      <th>Total Flights</th>\n",
       "      <th>Distance</th>\n",
       "      <th>Points Accumulated</th>\n",
       "      <th>Points Redeemed</th>\n",
       "      <th>Dollar Cost Points Redeemed</th>\n",
       "    </tr>\n",
       "  </thead>\n",
       "  <tbody>\n",
       "    <tr>\n",
       "      <th>42</th>\n",
       "      <td>101902</td>\n",
       "      <td>2017</td>\n",
       "      <td>1</td>\n",
       "      <td>0</td>\n",
       "      <td>0</td>\n",
       "      <td>0</td>\n",
       "      <td>0</td>\n",
       "      <td>0.0</td>\n",
       "      <td>0</td>\n",
       "      <td>0</td>\n",
       "    </tr>\n",
       "    <tr>\n",
       "      <th>227</th>\n",
       "      <td>112142</td>\n",
       "      <td>2017</td>\n",
       "      <td>1</td>\n",
       "      <td>0</td>\n",
       "      <td>0</td>\n",
       "      <td>0</td>\n",
       "      <td>0</td>\n",
       "      <td>0.0</td>\n",
       "      <td>0</td>\n",
       "      <td>0</td>\n",
       "    </tr>\n",
       "    <tr>\n",
       "      <th>478</th>\n",
       "      <td>126100</td>\n",
       "      <td>2017</td>\n",
       "      <td>1</td>\n",
       "      <td>0</td>\n",
       "      <td>0</td>\n",
       "      <td>0</td>\n",
       "      <td>0</td>\n",
       "      <td>0.0</td>\n",
       "      <td>0</td>\n",
       "      <td>0</td>\n",
       "    </tr>\n",
       "  </tbody>\n",
       "</table>\n",
       "</div>"
      ],
      "text/plain": [
       "     Loyalty Number  Year  Month  Flights Booked  Flights with Companions  \\\n",
       "42           101902  2017      1               0                        0   \n",
       "227          112142  2017      1               0                        0   \n",
       "478          126100  2017      1               0                        0   \n",
       "\n",
       "     Total Flights  Distance  Points Accumulated  Points Redeemed  \\\n",
       "42               0         0                 0.0                0   \n",
       "227              0         0                 0.0                0   \n",
       "478              0         0                 0.0                0   \n",
       "\n",
       "     Dollar Cost Points Redeemed  \n",
       "42                             0  \n",
       "227                            0  \n",
       "478                            0  "
      ]
     },
     "metadata": {},
     "output_type": "display_data"
    },
    {
     "name": "stdout",
     "output_type": "stream",
     "text": [
      "────────────────────────────────────────────────────────────────────────────────────────────────────\n",
      "🪹 Columnas constantes (solo un valor):\n",
      "✅ No hay columnas constantes.\n",
      "────────────────────────────────────────────────────────────────────────────────────────────────────\n",
      "🚀 Valores únicos en columnas categóricas:\n",
      "📭 No hay columnas categóricas.\n",
      "────────────────────────────────────────────────────────────────────────────────────────────────────\n",
      "🧬 Tipos de datos por columna:\n"
     ]
    },
    {
     "data": {
      "application/vnd.microsoft.datawrangler.viewer.v0+json": {
       "columns": [
        {
         "name": "index",
         "rawType": "object",
         "type": "unknown"
        },
        {
         "name": "count",
         "rawType": "int64",
         "type": "integer"
        }
       ],
       "ref": "c71c82a2-d475-4691-8281-ebd37fd40d85",
       "rows": [
        [
         "int64",
         "9"
        ],
        [
         "float64",
         "1"
        ]
       ],
       "shape": {
        "columns": 1,
        "rows": 2
       }
      },
      "text/plain": [
       "int64      9\n",
       "float64    1\n",
       "Name: count, dtype: int64"
      ]
     },
     "metadata": {},
     "output_type": "display_data"
    },
    {
     "name": "stdout",
     "output_type": "stream",
     "text": [
      "────────────────────────────────────────────────────────────────────────────────────────────────────\n"
     ]
    }
   ],
   "source": [
    "# EDA del primer DataFrame\n",
    "eda_basico(df1)\n"
   ]
  },
  {
   "cell_type": "code",
   "execution_count": 69,
   "id": "c0a073e9",
   "metadata": {},
   "outputs": [
    {
     "name": "stdout",
     "output_type": "stream",
     "text": [
      "🌷 Ejemplo de datos del DF:\n"
     ]
    },
    {
     "data": {
      "application/vnd.microsoft.datawrangler.viewer.v0+json": {
       "columns": [
        {
         "name": "index",
         "rawType": "int64",
         "type": "integer"
        },
        {
         "name": "Loyalty Number",
         "rawType": "int64",
         "type": "integer"
        },
        {
         "name": "Country",
         "rawType": "object",
         "type": "string"
        },
        {
         "name": "Province",
         "rawType": "object",
         "type": "string"
        },
        {
         "name": "City",
         "rawType": "object",
         "type": "string"
        },
        {
         "name": "Postal Code",
         "rawType": "object",
         "type": "string"
        },
        {
         "name": "Gender",
         "rawType": "object",
         "type": "string"
        },
        {
         "name": "Education",
         "rawType": "object",
         "type": "string"
        },
        {
         "name": "Salary",
         "rawType": "float64",
         "type": "float"
        },
        {
         "name": "Marital Status",
         "rawType": "object",
         "type": "string"
        },
        {
         "name": "Loyalty Card",
         "rawType": "object",
         "type": "string"
        },
        {
         "name": "CLV",
         "rawType": "float64",
         "type": "float"
        },
        {
         "name": "Enrollment Type",
         "rawType": "object",
         "type": "string"
        },
        {
         "name": "Enrollment Year",
         "rawType": "int64",
         "type": "integer"
        },
        {
         "name": "Enrollment Month",
         "rawType": "int64",
         "type": "integer"
        },
        {
         "name": "Cancellation Year",
         "rawType": "float64",
         "type": "float"
        },
        {
         "name": "Cancellation Month",
         "rawType": "float64",
         "type": "float"
        }
       ],
       "ref": "2f8685eb-f491-4d7c-a998-5be14d014ccd",
       "rows": [
        [
         "0",
         "480934",
         "Canada",
         "Ontario",
         "Toronto",
         "M2Z 4K1",
         "Female",
         "Bachelor",
         "83236.0",
         "Married",
         "Star",
         "3839.14",
         "Standard",
         "2016",
         "2",
         null,
         null
        ],
        [
         "1",
         "549612",
         "Canada",
         "Alberta",
         "Edmonton",
         "T3G 6Y6",
         "Male",
         "College",
         null,
         "Divorced",
         "Star",
         "3839.61",
         "Standard",
         "2016",
         "3",
         null,
         null
        ],
        [
         "2",
         "429460",
         "Canada",
         "British Columbia",
         "Vancouver",
         "V6E 3D9",
         "Male",
         "College",
         null,
         "Single",
         "Star",
         "3839.75",
         "Standard",
         "2014",
         "7",
         "2018.0",
         "1.0"
        ]
       ],
       "shape": {
        "columns": 16,
        "rows": 3
       }
      },
      "text/html": [
       "<div>\n",
       "<style scoped>\n",
       "    .dataframe tbody tr th:only-of-type {\n",
       "        vertical-align: middle;\n",
       "    }\n",
       "\n",
       "    .dataframe tbody tr th {\n",
       "        vertical-align: top;\n",
       "    }\n",
       "\n",
       "    .dataframe thead th {\n",
       "        text-align: right;\n",
       "    }\n",
       "</style>\n",
       "<table border=\"1\" class=\"dataframe\">\n",
       "  <thead>\n",
       "    <tr style=\"text-align: right;\">\n",
       "      <th></th>\n",
       "      <th>Loyalty Number</th>\n",
       "      <th>Country</th>\n",
       "      <th>Province</th>\n",
       "      <th>City</th>\n",
       "      <th>Postal Code</th>\n",
       "      <th>Gender</th>\n",
       "      <th>Education</th>\n",
       "      <th>Salary</th>\n",
       "      <th>Marital Status</th>\n",
       "      <th>Loyalty Card</th>\n",
       "      <th>CLV</th>\n",
       "      <th>Enrollment Type</th>\n",
       "      <th>Enrollment Year</th>\n",
       "      <th>Enrollment Month</th>\n",
       "      <th>Cancellation Year</th>\n",
       "      <th>Cancellation Month</th>\n",
       "    </tr>\n",
       "  </thead>\n",
       "  <tbody>\n",
       "    <tr>\n",
       "      <th>0</th>\n",
       "      <td>480934</td>\n",
       "      <td>Canada</td>\n",
       "      <td>Ontario</td>\n",
       "      <td>Toronto</td>\n",
       "      <td>M2Z 4K1</td>\n",
       "      <td>Female</td>\n",
       "      <td>Bachelor</td>\n",
       "      <td>83236.0</td>\n",
       "      <td>Married</td>\n",
       "      <td>Star</td>\n",
       "      <td>3839.14</td>\n",
       "      <td>Standard</td>\n",
       "      <td>2016</td>\n",
       "      <td>2</td>\n",
       "      <td>NaN</td>\n",
       "      <td>NaN</td>\n",
       "    </tr>\n",
       "    <tr>\n",
       "      <th>1</th>\n",
       "      <td>549612</td>\n",
       "      <td>Canada</td>\n",
       "      <td>Alberta</td>\n",
       "      <td>Edmonton</td>\n",
       "      <td>T3G 6Y6</td>\n",
       "      <td>Male</td>\n",
       "      <td>College</td>\n",
       "      <td>NaN</td>\n",
       "      <td>Divorced</td>\n",
       "      <td>Star</td>\n",
       "      <td>3839.61</td>\n",
       "      <td>Standard</td>\n",
       "      <td>2016</td>\n",
       "      <td>3</td>\n",
       "      <td>NaN</td>\n",
       "      <td>NaN</td>\n",
       "    </tr>\n",
       "    <tr>\n",
       "      <th>2</th>\n",
       "      <td>429460</td>\n",
       "      <td>Canada</td>\n",
       "      <td>British Columbia</td>\n",
       "      <td>Vancouver</td>\n",
       "      <td>V6E 3D9</td>\n",
       "      <td>Male</td>\n",
       "      <td>College</td>\n",
       "      <td>NaN</td>\n",
       "      <td>Single</td>\n",
       "      <td>Star</td>\n",
       "      <td>3839.75</td>\n",
       "      <td>Standard</td>\n",
       "      <td>2014</td>\n",
       "      <td>7</td>\n",
       "      <td>2018.0</td>\n",
       "      <td>1.0</td>\n",
       "    </tr>\n",
       "  </tbody>\n",
       "</table>\n",
       "</div>"
      ],
      "text/plain": [
       "   Loyalty Number Country          Province       City Postal Code  Gender  \\\n",
       "0          480934  Canada           Ontario    Toronto     M2Z 4K1  Female   \n",
       "1          549612  Canada           Alberta   Edmonton     T3G 6Y6    Male   \n",
       "2          429460  Canada  British Columbia  Vancouver     V6E 3D9    Male   \n",
       "\n",
       "  Education   Salary Marital Status Loyalty Card      CLV Enrollment Type  \\\n",
       "0  Bachelor  83236.0        Married         Star  3839.14        Standard   \n",
       "1   College      NaN       Divorced         Star  3839.61        Standard   \n",
       "2   College      NaN         Single         Star  3839.75        Standard   \n",
       "\n",
       "   Enrollment Year  Enrollment Month  Cancellation Year  Cancellation Month  \n",
       "0             2016                 2                NaN                 NaN  \n",
       "1             2016                 3                NaN                 NaN  \n",
       "2             2014                 7             2018.0                 1.0  "
      ]
     },
     "metadata": {},
     "output_type": "display_data"
    },
    {
     "data": {
      "application/vnd.microsoft.datawrangler.viewer.v0+json": {
       "columns": [
        {
         "name": "index",
         "rawType": "int64",
         "type": "integer"
        },
        {
         "name": "Loyalty Number",
         "rawType": "int64",
         "type": "integer"
        },
        {
         "name": "Country",
         "rawType": "object",
         "type": "string"
        },
        {
         "name": "Province",
         "rawType": "object",
         "type": "string"
        },
        {
         "name": "City",
         "rawType": "object",
         "type": "string"
        },
        {
         "name": "Postal Code",
         "rawType": "object",
         "type": "string"
        },
        {
         "name": "Gender",
         "rawType": "object",
         "type": "string"
        },
        {
         "name": "Education",
         "rawType": "object",
         "type": "string"
        },
        {
         "name": "Salary",
         "rawType": "float64",
         "type": "float"
        },
        {
         "name": "Marital Status",
         "rawType": "object",
         "type": "string"
        },
        {
         "name": "Loyalty Card",
         "rawType": "object",
         "type": "string"
        },
        {
         "name": "CLV",
         "rawType": "float64",
         "type": "float"
        },
        {
         "name": "Enrollment Type",
         "rawType": "object",
         "type": "string"
        },
        {
         "name": "Enrollment Year",
         "rawType": "int64",
         "type": "integer"
        },
        {
         "name": "Enrollment Month",
         "rawType": "int64",
         "type": "integer"
        },
        {
         "name": "Cancellation Year",
         "rawType": "float64",
         "type": "float"
        },
        {
         "name": "Cancellation Month",
         "rawType": "float64",
         "type": "float"
        }
       ],
       "ref": "6f2f15a6-e17c-4589-b9f4-2fc4775c2200",
       "rows": [
        [
         "16734",
         "776187",
         "Canada",
         "British Columbia",
         "Vancouver",
         "V5R 1W3",
         "Male",
         "College",
         null,
         "Single",
         "Star",
         "74228.52",
         "Standard",
         "2014",
         "3",
         null,
         null
        ],
        [
         "16735",
         "906428",
         "Canada",
         "Yukon",
         "Whitehorse",
         "Y2K 6R0",
         "Male",
         "Bachelor",
         "-57297.0",
         "Married",
         "Star",
         "10018.66",
         "2018 Promotion",
         "2018",
         "4",
         null,
         null
        ],
        [
         "16736",
         "652627",
         "Canada",
         "Manitoba",
         "Winnipeg",
         "R2C 0M5",
         "Female",
         "Bachelor",
         "75049.0",
         "Married",
         "Star",
         "83325.38",
         "Standard",
         "2015",
         "12",
         "2016.0",
         "8.0"
        ]
       ],
       "shape": {
        "columns": 16,
        "rows": 3
       }
      },
      "text/html": [
       "<div>\n",
       "<style scoped>\n",
       "    .dataframe tbody tr th:only-of-type {\n",
       "        vertical-align: middle;\n",
       "    }\n",
       "\n",
       "    .dataframe tbody tr th {\n",
       "        vertical-align: top;\n",
       "    }\n",
       "\n",
       "    .dataframe thead th {\n",
       "        text-align: right;\n",
       "    }\n",
       "</style>\n",
       "<table border=\"1\" class=\"dataframe\">\n",
       "  <thead>\n",
       "    <tr style=\"text-align: right;\">\n",
       "      <th></th>\n",
       "      <th>Loyalty Number</th>\n",
       "      <th>Country</th>\n",
       "      <th>Province</th>\n",
       "      <th>City</th>\n",
       "      <th>Postal Code</th>\n",
       "      <th>Gender</th>\n",
       "      <th>Education</th>\n",
       "      <th>Salary</th>\n",
       "      <th>Marital Status</th>\n",
       "      <th>Loyalty Card</th>\n",
       "      <th>CLV</th>\n",
       "      <th>Enrollment Type</th>\n",
       "      <th>Enrollment Year</th>\n",
       "      <th>Enrollment Month</th>\n",
       "      <th>Cancellation Year</th>\n",
       "      <th>Cancellation Month</th>\n",
       "    </tr>\n",
       "  </thead>\n",
       "  <tbody>\n",
       "    <tr>\n",
       "      <th>16734</th>\n",
       "      <td>776187</td>\n",
       "      <td>Canada</td>\n",
       "      <td>British Columbia</td>\n",
       "      <td>Vancouver</td>\n",
       "      <td>V5R 1W3</td>\n",
       "      <td>Male</td>\n",
       "      <td>College</td>\n",
       "      <td>NaN</td>\n",
       "      <td>Single</td>\n",
       "      <td>Star</td>\n",
       "      <td>74228.52</td>\n",
       "      <td>Standard</td>\n",
       "      <td>2014</td>\n",
       "      <td>3</td>\n",
       "      <td>NaN</td>\n",
       "      <td>NaN</td>\n",
       "    </tr>\n",
       "    <tr>\n",
       "      <th>16735</th>\n",
       "      <td>906428</td>\n",
       "      <td>Canada</td>\n",
       "      <td>Yukon</td>\n",
       "      <td>Whitehorse</td>\n",
       "      <td>Y2K 6R0</td>\n",
       "      <td>Male</td>\n",
       "      <td>Bachelor</td>\n",
       "      <td>-57297.0</td>\n",
       "      <td>Married</td>\n",
       "      <td>Star</td>\n",
       "      <td>10018.66</td>\n",
       "      <td>2018 Promotion</td>\n",
       "      <td>2018</td>\n",
       "      <td>4</td>\n",
       "      <td>NaN</td>\n",
       "      <td>NaN</td>\n",
       "    </tr>\n",
       "    <tr>\n",
       "      <th>16736</th>\n",
       "      <td>652627</td>\n",
       "      <td>Canada</td>\n",
       "      <td>Manitoba</td>\n",
       "      <td>Winnipeg</td>\n",
       "      <td>R2C 0M5</td>\n",
       "      <td>Female</td>\n",
       "      <td>Bachelor</td>\n",
       "      <td>75049.0</td>\n",
       "      <td>Married</td>\n",
       "      <td>Star</td>\n",
       "      <td>83325.38</td>\n",
       "      <td>Standard</td>\n",
       "      <td>2015</td>\n",
       "      <td>12</td>\n",
       "      <td>2016.0</td>\n",
       "      <td>8.0</td>\n",
       "    </tr>\n",
       "  </tbody>\n",
       "</table>\n",
       "</div>"
      ],
      "text/plain": [
       "       Loyalty Number Country          Province        City Postal Code  \\\n",
       "16734          776187  Canada  British Columbia   Vancouver     V5R 1W3   \n",
       "16735          906428  Canada             Yukon  Whitehorse     Y2K 6R0   \n",
       "16736          652627  Canada          Manitoba    Winnipeg     R2C 0M5   \n",
       "\n",
       "       Gender Education   Salary Marital Status Loyalty Card       CLV  \\\n",
       "16734    Male   College      NaN         Single         Star  74228.52   \n",
       "16735    Male  Bachelor -57297.0        Married         Star  10018.66   \n",
       "16736  Female  Bachelor  75049.0        Married         Star  83325.38   \n",
       "\n",
       "      Enrollment Type  Enrollment Year  Enrollment Month  Cancellation Year  \\\n",
       "16734        Standard             2014                 3                NaN   \n",
       "16735  2018 Promotion             2018                 4                NaN   \n",
       "16736        Standard             2015                12             2016.0   \n",
       "\n",
       "       Cancellation Month  \n",
       "16734                 NaN  \n",
       "16735                 NaN  \n",
       "16736                 8.0  "
      ]
     },
     "metadata": {},
     "output_type": "display_data"
    },
    {
     "data": {
      "application/vnd.microsoft.datawrangler.viewer.v0+json": {
       "columns": [
        {
         "name": "index",
         "rawType": "int64",
         "type": "integer"
        },
        {
         "name": "Loyalty Number",
         "rawType": "int64",
         "type": "integer"
        },
        {
         "name": "Country",
         "rawType": "object",
         "type": "string"
        },
        {
         "name": "Province",
         "rawType": "object",
         "type": "string"
        },
        {
         "name": "City",
         "rawType": "object",
         "type": "string"
        },
        {
         "name": "Postal Code",
         "rawType": "object",
         "type": "string"
        },
        {
         "name": "Gender",
         "rawType": "object",
         "type": "string"
        },
        {
         "name": "Education",
         "rawType": "object",
         "type": "string"
        },
        {
         "name": "Salary",
         "rawType": "float64",
         "type": "float"
        },
        {
         "name": "Marital Status",
         "rawType": "object",
         "type": "string"
        },
        {
         "name": "Loyalty Card",
         "rawType": "object",
         "type": "string"
        },
        {
         "name": "CLV",
         "rawType": "float64",
         "type": "float"
        },
        {
         "name": "Enrollment Type",
         "rawType": "object",
         "type": "string"
        },
        {
         "name": "Enrollment Year",
         "rawType": "int64",
         "type": "integer"
        },
        {
         "name": "Enrollment Month",
         "rawType": "int64",
         "type": "integer"
        },
        {
         "name": "Cancellation Year",
         "rawType": "float64",
         "type": "float"
        },
        {
         "name": "Cancellation Month",
         "rawType": "float64",
         "type": "float"
        }
       ],
       "ref": "12f02867-7113-48ff-840e-cd20b2a35d92",
       "rows": [
        [
         "8064",
         "276947",
         "Canada",
         "Ontario",
         "Toronto",
         "M2Z 4K1",
         "Male",
         "Bachelor",
         "29905.0",
         "Married",
         "Aurora",
         "8920.46",
         "2018 Promotion",
         "2018",
         "3",
         "2018.0",
         "12.0"
        ],
        [
         "3825",
         "118376",
         "Canada",
         "British Columbia",
         "Kelowna",
         "V09 2E9",
         "Female",
         "College",
         null,
         "Married",
         "Aurora",
         "20455.25",
         "Standard",
         "2017",
         "12",
         "2018.0",
         "8.0"
        ],
        [
         "8693",
         "961978",
         "Canada",
         "British Columbia",
         "Vancouver",
         "V6E 3D9",
         "Male",
         "Bachelor",
         "64730.0",
         "Divorced",
         "Nova",
         "10148.42",
         "Standard",
         "2014",
         "6",
         null,
         null
        ]
       ],
       "shape": {
        "columns": 16,
        "rows": 3
       }
      },
      "text/html": [
       "<div>\n",
       "<style scoped>\n",
       "    .dataframe tbody tr th:only-of-type {\n",
       "        vertical-align: middle;\n",
       "    }\n",
       "\n",
       "    .dataframe tbody tr th {\n",
       "        vertical-align: top;\n",
       "    }\n",
       "\n",
       "    .dataframe thead th {\n",
       "        text-align: right;\n",
       "    }\n",
       "</style>\n",
       "<table border=\"1\" class=\"dataframe\">\n",
       "  <thead>\n",
       "    <tr style=\"text-align: right;\">\n",
       "      <th></th>\n",
       "      <th>Loyalty Number</th>\n",
       "      <th>Country</th>\n",
       "      <th>Province</th>\n",
       "      <th>City</th>\n",
       "      <th>Postal Code</th>\n",
       "      <th>Gender</th>\n",
       "      <th>Education</th>\n",
       "      <th>Salary</th>\n",
       "      <th>Marital Status</th>\n",
       "      <th>Loyalty Card</th>\n",
       "      <th>CLV</th>\n",
       "      <th>Enrollment Type</th>\n",
       "      <th>Enrollment Year</th>\n",
       "      <th>Enrollment Month</th>\n",
       "      <th>Cancellation Year</th>\n",
       "      <th>Cancellation Month</th>\n",
       "    </tr>\n",
       "  </thead>\n",
       "  <tbody>\n",
       "    <tr>\n",
       "      <th>8064</th>\n",
       "      <td>276947</td>\n",
       "      <td>Canada</td>\n",
       "      <td>Ontario</td>\n",
       "      <td>Toronto</td>\n",
       "      <td>M2Z 4K1</td>\n",
       "      <td>Male</td>\n",
       "      <td>Bachelor</td>\n",
       "      <td>29905.0</td>\n",
       "      <td>Married</td>\n",
       "      <td>Aurora</td>\n",
       "      <td>8920.46</td>\n",
       "      <td>2018 Promotion</td>\n",
       "      <td>2018</td>\n",
       "      <td>3</td>\n",
       "      <td>2018.0</td>\n",
       "      <td>12.0</td>\n",
       "    </tr>\n",
       "    <tr>\n",
       "      <th>3825</th>\n",
       "      <td>118376</td>\n",
       "      <td>Canada</td>\n",
       "      <td>British Columbia</td>\n",
       "      <td>Kelowna</td>\n",
       "      <td>V09 2E9</td>\n",
       "      <td>Female</td>\n",
       "      <td>College</td>\n",
       "      <td>NaN</td>\n",
       "      <td>Married</td>\n",
       "      <td>Aurora</td>\n",
       "      <td>20455.25</td>\n",
       "      <td>Standard</td>\n",
       "      <td>2017</td>\n",
       "      <td>12</td>\n",
       "      <td>2018.0</td>\n",
       "      <td>8.0</td>\n",
       "    </tr>\n",
       "    <tr>\n",
       "      <th>8693</th>\n",
       "      <td>961978</td>\n",
       "      <td>Canada</td>\n",
       "      <td>British Columbia</td>\n",
       "      <td>Vancouver</td>\n",
       "      <td>V6E 3D9</td>\n",
       "      <td>Male</td>\n",
       "      <td>Bachelor</td>\n",
       "      <td>64730.0</td>\n",
       "      <td>Divorced</td>\n",
       "      <td>Nova</td>\n",
       "      <td>10148.42</td>\n",
       "      <td>Standard</td>\n",
       "      <td>2014</td>\n",
       "      <td>6</td>\n",
       "      <td>NaN</td>\n",
       "      <td>NaN</td>\n",
       "    </tr>\n",
       "  </tbody>\n",
       "</table>\n",
       "</div>"
      ],
      "text/plain": [
       "      Loyalty Number Country          Province       City Postal Code  Gender  \\\n",
       "8064          276947  Canada           Ontario    Toronto     M2Z 4K1    Male   \n",
       "3825          118376  Canada  British Columbia    Kelowna     V09 2E9  Female   \n",
       "8693          961978  Canada  British Columbia  Vancouver     V6E 3D9    Male   \n",
       "\n",
       "     Education   Salary Marital Status Loyalty Card       CLV Enrollment Type  \\\n",
       "8064  Bachelor  29905.0        Married       Aurora   8920.46  2018 Promotion   \n",
       "3825   College      NaN        Married       Aurora  20455.25        Standard   \n",
       "8693  Bachelor  64730.0       Divorced         Nova  10148.42        Standard   \n",
       "\n",
       "      Enrollment Year  Enrollment Month  Cancellation Year  Cancellation Month  \n",
       "8064             2018                 3             2018.0                12.0  \n",
       "3825             2017                12             2018.0                 8.0  \n",
       "8693             2014                 6                NaN                 NaN  "
      ]
     },
     "metadata": {},
     "output_type": "display_data"
    },
    {
     "name": "stdout",
     "output_type": "stream",
     "text": [
      "────────────────────────────────────────────────────────────────────────────────────────────────────\n",
      "🌻 Número de filas:\n",
      "16737\n",
      "────────────────────────────────────────────────────────────────────────────────────────────────────\n",
      "🌱 Número de columnas:\n",
      "16\n",
      "────────────────────────────────────────────────────────────────────────────────────────────────────\n",
      "🌼 Información de la tabla:\n",
      "<class 'pandas.core.frame.DataFrame'>\n",
      "RangeIndex: 16737 entries, 0 to 16736\n",
      "Data columns (total 16 columns):\n",
      " #   Column              Non-Null Count  Dtype  \n",
      "---  ------              --------------  -----  \n",
      " 0   Loyalty Number      16737 non-null  int64  \n",
      " 1   Country             16737 non-null  object \n",
      " 2   Province            16737 non-null  object \n",
      " 3   City                16737 non-null  object \n",
      " 4   Postal Code         16737 non-null  object \n",
      " 5   Gender              16737 non-null  object \n",
      " 6   Education           16737 non-null  object \n",
      " 7   Salary              12499 non-null  float64\n",
      " 8   Marital Status      16737 non-null  object \n",
      " 9   Loyalty Card        16737 non-null  object \n",
      " 10  CLV                 16737 non-null  float64\n",
      " 11  Enrollment Type     16737 non-null  object \n",
      " 12  Enrollment Year     16737 non-null  int64  \n",
      " 13  Enrollment Month    16737 non-null  int64  \n",
      " 14  Cancellation Year   2067 non-null   float64\n",
      " 15  Cancellation Month  2067 non-null   float64\n",
      "dtypes: float64(4), int64(3), object(9)\n",
      "memory usage: 2.0+ MB\n"
     ]
    },
    {
     "data": {
      "text/plain": [
       "None"
      ]
     },
     "metadata": {},
     "output_type": "display_data"
    },
    {
     "name": "stdout",
     "output_type": "stream",
     "text": [
      "────────────────────────────────────────────────────────────────────────────────────────────────────\n",
      "🌑 Nombre de las columnas:\n",
      "['Loyalty Number', 'Country', 'Province', 'City', 'Postal Code', 'Gender', 'Education', 'Salary', 'Marital Status', 'Loyalty Card', 'CLV', 'Enrollment Type', 'Enrollment Year', 'Enrollment Month', 'Cancellation Year', 'Cancellation Month']\n",
      "────────────────────────────────────────────────────────────────────────────────────────────────────\n",
      "🍄 Descripción de los datos numéricos:\n"
     ]
    },
    {
     "data": {
      "application/vnd.microsoft.datawrangler.viewer.v0+json": {
       "columns": [
        {
         "name": "index",
         "rawType": "object",
         "type": "string"
        },
        {
         "name": "count",
         "rawType": "float64",
         "type": "float"
        },
        {
         "name": "mean",
         "rawType": "float64",
         "type": "float"
        },
        {
         "name": "std",
         "rawType": "float64",
         "type": "float"
        },
        {
         "name": "min",
         "rawType": "float64",
         "type": "float"
        },
        {
         "name": "25%",
         "rawType": "float64",
         "type": "float"
        },
        {
         "name": "50%",
         "rawType": "float64",
         "type": "float"
        },
        {
         "name": "75%",
         "rawType": "float64",
         "type": "float"
        },
        {
         "name": "max",
         "rawType": "float64",
         "type": "float"
        }
       ],
       "ref": "8ed5192c-c3ba-47d2-841c-8499eb11577d",
       "rows": [
        [
         "Loyalty Number",
         "16737.0",
         "549735.8804445241",
         "258912.13245338068",
         "100018.0",
         "326603.0",
         "550434.0",
         "772019.0",
         "999986.0"
        ],
        [
         "Salary",
         "12499.0",
         "79245.6094087527",
         "35008.29728510277",
         "-58486.0",
         "59246.5",
         "73455.0",
         "88517.5",
         "407228.0"
        ],
        [
         "CLV",
         "16737.0",
         "7988.896535818843",
         "6860.982280053849",
         "1898.01",
         "3980.84",
         "5780.18",
         "8940.58",
         "83325.38"
        ],
        [
         "Enrollment Year",
         "16737.0",
         "2015.2532114476908",
         "1.9791107032479782",
         "2012.0",
         "2014.0",
         "2015.0",
         "2017.0",
         "2018.0"
        ],
        [
         "Enrollment Month",
         "16737.0",
         "6.669116329091235",
         "3.398957759696981",
         "1.0",
         "4.0",
         "7.0",
         "10.0",
         "12.0"
        ],
        [
         "Cancellation Year",
         "2067.0",
         "2016.5031446540881",
         "1.380743230373704",
         "2013.0",
         "2016.0",
         "2017.0",
         "2018.0",
         "2018.0"
        ],
        [
         "Cancellation Month",
         "2067.0",
         "6.96274794388002",
         "3.45529684378116",
         "1.0",
         "4.0",
         "7.0",
         "10.0",
         "12.0"
        ]
       ],
       "shape": {
        "columns": 8,
        "rows": 7
       }
      },
      "text/html": [
       "<div>\n",
       "<style scoped>\n",
       "    .dataframe tbody tr th:only-of-type {\n",
       "        vertical-align: middle;\n",
       "    }\n",
       "\n",
       "    .dataframe tbody tr th {\n",
       "        vertical-align: top;\n",
       "    }\n",
       "\n",
       "    .dataframe thead th {\n",
       "        text-align: right;\n",
       "    }\n",
       "</style>\n",
       "<table border=\"1\" class=\"dataframe\">\n",
       "  <thead>\n",
       "    <tr style=\"text-align: right;\">\n",
       "      <th></th>\n",
       "      <th>count</th>\n",
       "      <th>mean</th>\n",
       "      <th>std</th>\n",
       "      <th>min</th>\n",
       "      <th>25%</th>\n",
       "      <th>50%</th>\n",
       "      <th>75%</th>\n",
       "      <th>max</th>\n",
       "    </tr>\n",
       "  </thead>\n",
       "  <tbody>\n",
       "    <tr>\n",
       "      <th>Loyalty Number</th>\n",
       "      <td>16737.0</td>\n",
       "      <td>549735.880445</td>\n",
       "      <td>258912.132453</td>\n",
       "      <td>100018.00</td>\n",
       "      <td>326603.00</td>\n",
       "      <td>550434.00</td>\n",
       "      <td>772019.00</td>\n",
       "      <td>999986.00</td>\n",
       "    </tr>\n",
       "    <tr>\n",
       "      <th>Salary</th>\n",
       "      <td>12499.0</td>\n",
       "      <td>79245.609409</td>\n",
       "      <td>35008.297285</td>\n",
       "      <td>-58486.00</td>\n",
       "      <td>59246.50</td>\n",
       "      <td>73455.00</td>\n",
       "      <td>88517.50</td>\n",
       "      <td>407228.00</td>\n",
       "    </tr>\n",
       "    <tr>\n",
       "      <th>CLV</th>\n",
       "      <td>16737.0</td>\n",
       "      <td>7988.896536</td>\n",
       "      <td>6860.982280</td>\n",
       "      <td>1898.01</td>\n",
       "      <td>3980.84</td>\n",
       "      <td>5780.18</td>\n",
       "      <td>8940.58</td>\n",
       "      <td>83325.38</td>\n",
       "    </tr>\n",
       "    <tr>\n",
       "      <th>Enrollment Year</th>\n",
       "      <td>16737.0</td>\n",
       "      <td>2015.253211</td>\n",
       "      <td>1.979111</td>\n",
       "      <td>2012.00</td>\n",
       "      <td>2014.00</td>\n",
       "      <td>2015.00</td>\n",
       "      <td>2017.00</td>\n",
       "      <td>2018.00</td>\n",
       "    </tr>\n",
       "    <tr>\n",
       "      <th>Enrollment Month</th>\n",
       "      <td>16737.0</td>\n",
       "      <td>6.669116</td>\n",
       "      <td>3.398958</td>\n",
       "      <td>1.00</td>\n",
       "      <td>4.00</td>\n",
       "      <td>7.00</td>\n",
       "      <td>10.00</td>\n",
       "      <td>12.00</td>\n",
       "    </tr>\n",
       "    <tr>\n",
       "      <th>Cancellation Year</th>\n",
       "      <td>2067.0</td>\n",
       "      <td>2016.503145</td>\n",
       "      <td>1.380743</td>\n",
       "      <td>2013.00</td>\n",
       "      <td>2016.00</td>\n",
       "      <td>2017.00</td>\n",
       "      <td>2018.00</td>\n",
       "      <td>2018.00</td>\n",
       "    </tr>\n",
       "    <tr>\n",
       "      <th>Cancellation Month</th>\n",
       "      <td>2067.0</td>\n",
       "      <td>6.962748</td>\n",
       "      <td>3.455297</td>\n",
       "      <td>1.00</td>\n",
       "      <td>4.00</td>\n",
       "      <td>7.00</td>\n",
       "      <td>10.00</td>\n",
       "      <td>12.00</td>\n",
       "    </tr>\n",
       "  </tbody>\n",
       "</table>\n",
       "</div>"
      ],
      "text/plain": [
       "                      count           mean            std        min  \\\n",
       "Loyalty Number      16737.0  549735.880445  258912.132453  100018.00   \n",
       "Salary              12499.0   79245.609409   35008.297285  -58486.00   \n",
       "CLV                 16737.0    7988.896536    6860.982280    1898.01   \n",
       "Enrollment Year     16737.0    2015.253211       1.979111    2012.00   \n",
       "Enrollment Month    16737.0       6.669116       3.398958       1.00   \n",
       "Cancellation Year    2067.0    2016.503145       1.380743    2013.00   \n",
       "Cancellation Month   2067.0       6.962748       3.455297       1.00   \n",
       "\n",
       "                          25%        50%        75%        max  \n",
       "Loyalty Number      326603.00  550434.00  772019.00  999986.00  \n",
       "Salary               59246.50   73455.00   88517.50  407228.00  \n",
       "CLV                   3980.84    5780.18    8940.58   83325.38  \n",
       "Enrollment Year       2014.00    2015.00    2017.00    2018.00  \n",
       "Enrollment Month         4.00       7.00      10.00      12.00  \n",
       "Cancellation Year     2016.00    2017.00    2018.00    2018.00  \n",
       "Cancellation Month       4.00       7.00      10.00      12.00  "
      ]
     },
     "metadata": {},
     "output_type": "display_data"
    },
    {
     "name": "stdout",
     "output_type": "stream",
     "text": [
      "────────────────────────────────────────────────────────────────────────────────────────────────────\n",
      "🌋 Descripción de los datos no-numéricos:\n"
     ]
    },
    {
     "data": {
      "application/vnd.microsoft.datawrangler.viewer.v0+json": {
       "columns": [
        {
         "name": "index",
         "rawType": "object",
         "type": "string"
        },
        {
         "name": "count",
         "rawType": "object",
         "type": "unknown"
        },
        {
         "name": "unique",
         "rawType": "object",
         "type": "unknown"
        },
        {
         "name": "top",
         "rawType": "object",
         "type": "string"
        },
        {
         "name": "freq",
         "rawType": "object",
         "type": "unknown"
        }
       ],
       "ref": "2703e7b3-afa3-4c82-b7c8-225a82133eaa",
       "rows": [
        [
         "Country",
         "16737",
         "1",
         "Canada",
         "16737"
        ],
        [
         "Province",
         "16737",
         "11",
         "Ontario",
         "5404"
        ],
        [
         "City",
         "16737",
         "29",
         "Toronto",
         "3351"
        ],
        [
         "Postal Code",
         "16737",
         "55",
         "V6E 3D9",
         "911"
        ],
        [
         "Gender",
         "16737",
         "2",
         "Female",
         "8410"
        ],
        [
         "Education",
         "16737",
         "5",
         "Bachelor",
         "10475"
        ],
        [
         "Marital Status",
         "16737",
         "3",
         "Married",
         "9735"
        ],
        [
         "Loyalty Card",
         "16737",
         "3",
         "Star",
         "7637"
        ],
        [
         "Enrollment Type",
         "16737",
         "2",
         "Standard",
         "15766"
        ]
       ],
       "shape": {
        "columns": 4,
        "rows": 9
       }
      },
      "text/html": [
       "<div>\n",
       "<style scoped>\n",
       "    .dataframe tbody tr th:only-of-type {\n",
       "        vertical-align: middle;\n",
       "    }\n",
       "\n",
       "    .dataframe tbody tr th {\n",
       "        vertical-align: top;\n",
       "    }\n",
       "\n",
       "    .dataframe thead th {\n",
       "        text-align: right;\n",
       "    }\n",
       "</style>\n",
       "<table border=\"1\" class=\"dataframe\">\n",
       "  <thead>\n",
       "    <tr style=\"text-align: right;\">\n",
       "      <th></th>\n",
       "      <th>count</th>\n",
       "      <th>unique</th>\n",
       "      <th>top</th>\n",
       "      <th>freq</th>\n",
       "    </tr>\n",
       "  </thead>\n",
       "  <tbody>\n",
       "    <tr>\n",
       "      <th>Country</th>\n",
       "      <td>16737</td>\n",
       "      <td>1</td>\n",
       "      <td>Canada</td>\n",
       "      <td>16737</td>\n",
       "    </tr>\n",
       "    <tr>\n",
       "      <th>Province</th>\n",
       "      <td>16737</td>\n",
       "      <td>11</td>\n",
       "      <td>Ontario</td>\n",
       "      <td>5404</td>\n",
       "    </tr>\n",
       "    <tr>\n",
       "      <th>City</th>\n",
       "      <td>16737</td>\n",
       "      <td>29</td>\n",
       "      <td>Toronto</td>\n",
       "      <td>3351</td>\n",
       "    </tr>\n",
       "    <tr>\n",
       "      <th>Postal Code</th>\n",
       "      <td>16737</td>\n",
       "      <td>55</td>\n",
       "      <td>V6E 3D9</td>\n",
       "      <td>911</td>\n",
       "    </tr>\n",
       "    <tr>\n",
       "      <th>Gender</th>\n",
       "      <td>16737</td>\n",
       "      <td>2</td>\n",
       "      <td>Female</td>\n",
       "      <td>8410</td>\n",
       "    </tr>\n",
       "    <tr>\n",
       "      <th>Education</th>\n",
       "      <td>16737</td>\n",
       "      <td>5</td>\n",
       "      <td>Bachelor</td>\n",
       "      <td>10475</td>\n",
       "    </tr>\n",
       "    <tr>\n",
       "      <th>Marital Status</th>\n",
       "      <td>16737</td>\n",
       "      <td>3</td>\n",
       "      <td>Married</td>\n",
       "      <td>9735</td>\n",
       "    </tr>\n",
       "    <tr>\n",
       "      <th>Loyalty Card</th>\n",
       "      <td>16737</td>\n",
       "      <td>3</td>\n",
       "      <td>Star</td>\n",
       "      <td>7637</td>\n",
       "    </tr>\n",
       "    <tr>\n",
       "      <th>Enrollment Type</th>\n",
       "      <td>16737</td>\n",
       "      <td>2</td>\n",
       "      <td>Standard</td>\n",
       "      <td>15766</td>\n",
       "    </tr>\n",
       "  </tbody>\n",
       "</table>\n",
       "</div>"
      ],
      "text/plain": [
       "                 count unique       top   freq\n",
       "Country          16737      1    Canada  16737\n",
       "Province         16737     11   Ontario   5404\n",
       "City             16737     29   Toronto   3351\n",
       "Postal Code      16737     55   V6E 3D9    911\n",
       "Gender           16737      2    Female   8410\n",
       "Education        16737      5  Bachelor  10475\n",
       "Marital Status   16737      3   Married   9735\n",
       "Loyalty Card     16737      3      Star   7637\n",
       "Enrollment Type  16737      2  Standard  15766"
      ]
     },
     "metadata": {},
     "output_type": "display_data"
    },
    {
     "name": "stdout",
     "output_type": "stream",
     "text": [
      "────────────────────────────────────────────────────────────────────────────────────────────────────\n",
      "🍂 Número de valores únicos por columna:\n"
     ]
    },
    {
     "data": {
      "application/vnd.microsoft.datawrangler.viewer.v0+json": {
       "columns": [
        {
         "name": "index",
         "rawType": "object",
         "type": "string"
        },
        {
         "name": "0",
         "rawType": "int64",
         "type": "integer"
        }
       ],
       "ref": "7b02dcd7-d519-4064-ab6e-966344237432",
       "rows": [
        [
         "Loyalty Number",
         "16737"
        ],
        [
         "Country",
         "1"
        ],
        [
         "Province",
         "11"
        ],
        [
         "City",
         "29"
        ],
        [
         "Postal Code",
         "55"
        ],
        [
         "Gender",
         "2"
        ],
        [
         "Education",
         "5"
        ],
        [
         "Salary",
         "5890"
        ],
        [
         "Marital Status",
         "3"
        ],
        [
         "Loyalty Card",
         "3"
        ],
        [
         "CLV",
         "7984"
        ],
        [
         "Enrollment Type",
         "2"
        ],
        [
         "Enrollment Year",
         "7"
        ],
        [
         "Enrollment Month",
         "12"
        ],
        [
         "Cancellation Year",
         "6"
        ],
        [
         "Cancellation Month",
         "12"
        ]
       ],
       "shape": {
        "columns": 1,
        "rows": 16
       }
      },
      "text/plain": [
       "Loyalty Number        16737\n",
       "Country                   1\n",
       "Province                 11\n",
       "City                     29\n",
       "Postal Code              55\n",
       "Gender                    2\n",
       "Education                 5\n",
       "Salary                 5890\n",
       "Marital Status            3\n",
       "Loyalty Card              3\n",
       "CLV                    7984\n",
       "Enrollment Type           2\n",
       "Enrollment Year           7\n",
       "Enrollment Month         12\n",
       "Cancellation Year         6\n",
       "Cancellation Month       12\n",
       "dtype: int64"
      ]
     },
     "metadata": {},
     "output_type": "display_data"
    },
    {
     "name": "stdout",
     "output_type": "stream",
     "text": [
      "────────────────────────────────────────────────────────────────────────────────────────────────────\n",
      "🐖 Valores nulos por columna:\n"
     ]
    },
    {
     "data": {
      "application/vnd.microsoft.datawrangler.viewer.v0+json": {
       "columns": [
        {
         "name": "index",
         "rawType": "object",
         "type": "string"
        },
        {
         "name": "0",
         "rawType": "int64",
         "type": "integer"
        }
       ],
       "ref": "9a269771-ee86-4dd4-9f0c-2f2676b44a56",
       "rows": [
        [
         "Loyalty Number",
         "0"
        ],
        [
         "Country",
         "0"
        ],
        [
         "Province",
         "0"
        ],
        [
         "City",
         "0"
        ],
        [
         "Postal Code",
         "0"
        ],
        [
         "Gender",
         "0"
        ],
        [
         "Education",
         "0"
        ],
        [
         "Salary",
         "4238"
        ],
        [
         "Marital Status",
         "0"
        ],
        [
         "Loyalty Card",
         "0"
        ],
        [
         "CLV",
         "0"
        ],
        [
         "Enrollment Type",
         "0"
        ],
        [
         "Enrollment Year",
         "0"
        ],
        [
         "Enrollment Month",
         "0"
        ],
        [
         "Cancellation Year",
         "14670"
        ],
        [
         "Cancellation Month",
         "14670"
        ]
       ],
       "shape": {
        "columns": 1,
        "rows": 16
       }
      },
      "text/plain": [
       "Loyalty Number            0\n",
       "Country                   0\n",
       "Province                  0\n",
       "City                      0\n",
       "Postal Code               0\n",
       "Gender                    0\n",
       "Education                 0\n",
       "Salary                 4238\n",
       "Marital Status            0\n",
       "Loyalty Card              0\n",
       "CLV                       0\n",
       "Enrollment Type           0\n",
       "Enrollment Year           0\n",
       "Enrollment Month          0\n",
       "Cancellation Year     14670\n",
       "Cancellation Month    14670\n",
       "dtype: int64"
      ]
     },
     "metadata": {},
     "output_type": "display_data"
    },
    {
     "name": "stdout",
     "output_type": "stream",
     "text": [
      "────────────────────────────────────────────────────────────────────────────────────────────────────\n",
      "🐲 Filas duplicadas:\n",
      "✅ No hay filas duplicadas.\n",
      "────────────────────────────────────────────────────────────────────────────────────────────────────\n",
      "🪹 Columnas constantes (solo un valor):\n",
      "📌 1 columnas con solo un valor:\n"
     ]
    },
    {
     "data": {
      "text/plain": [
       "['Country']"
      ]
     },
     "metadata": {},
     "output_type": "display_data"
    },
    {
     "name": "stdout",
     "output_type": "stream",
     "text": [
      "────────────────────────────────────────────────────────────────────────────────────────────────────\n",
      "🚀 Valores únicos en columnas categóricas:\n",
      "🔸 Country\n",
      "['Canada']\n",
      "────────────────────────────────────────────────────────────\n",
      "🔸 Province\n",
      "['Ontario' 'Alberta' 'British Columbia' 'Quebec' 'Yukon' 'New Brunswick'\n",
      " 'Manitoba' 'Nova Scotia' 'Saskatchewan' 'Newfoundland'\n",
      " 'Prince Edward Island']\n",
      "────────────────────────────────────────────────────────────\n",
      "🔸 City\n",
      "['Toronto' 'Edmonton' 'Vancouver' 'Hull' 'Whitehorse' 'Trenton' 'Montreal'\n",
      " 'Dawson Creek' 'Quebec City' 'Fredericton' 'Ottawa' 'Tremblant' 'Calgary'\n",
      " 'Thunder Bay' 'Whistler' 'Peace River' 'Winnipeg' 'Sudbury'\n",
      " 'West Vancouver' 'Halifax' 'London' 'Regina' 'Kelowna' \"St. John's\"\n",
      " 'Victoria' 'Kingston' 'Banff' 'Moncton' 'Charlottetown']\n",
      "────────────────────────────────────────────────────────────\n",
      "🔸 Postal Code\n",
      "['M2Z 4K1' 'T3G 6Y6' 'V6E 3D9' 'P1W 1K4' 'J8Y 3Z5' 'Y2K 6R0' 'P5S 6R4'\n",
      " 'K8V 4B2' 'H2Y 2W2' 'M8Y 4K8' 'U5I 4F1' 'G1B 3L5' 'H4G 3T4' 'M2M 7K8'\n",
      " 'M2M 6J7' 'E3B 2H2' 'M1R 4K3' 'T9G 1W3' 'H2Y 4R4' 'V5R 1W3' 'P1L 8X8'\n",
      " 'K1F 2R2' 'H5Y 2S9' 'V1E 4R6' 'H2T 2J6' 'T3E 2V9' 'H2T 9K8' 'K8T 5M5'\n",
      " 'V6T 1Y8' 'P2T 6G3' 'T9O 2W2' 'V6E 3Z3' 'R6Y 4T5' 'M5V 1G5' 'V6V 8Z3'\n",
      " 'B3J 9S2' 'M5B 3E4' 'R2C 0M5' 'S6J 3G0' 'M2P 4F6' 'P1J 8T7' 'V09 2E9'\n",
      " 'A1C 6H9' 'V10 6T5' 'B3C 2M8' 'M9K 2P4' 'T4V 1D4' 'R3R 3T4' 'S1J 3C5'\n",
      " 'E1A 2A7' 'K1G 4Z0' 'H3T 8L4' 'C1A 6E8' 'H3J 5I6' 'M3R 4K8']\n",
      "────────────────────────────────────────────────────────────\n",
      "🔸 Gender\n",
      "['Female' 'Male']\n",
      "────────────────────────────────────────────────────────────\n",
      "🔸 Education\n",
      "['Bachelor' 'College' 'Master' 'High School or Below' 'Doctor']\n",
      "────────────────────────────────────────────────────────────\n",
      "🔸 Marital Status\n",
      "['Married' 'Divorced' 'Single']\n",
      "────────────────────────────────────────────────────────────\n",
      "🔸 Loyalty Card\n",
      "['Star' 'Aurora' 'Nova']\n",
      "────────────────────────────────────────────────────────────\n",
      "🔸 Enrollment Type\n",
      "['Standard' '2018 Promotion']\n",
      "────────────────────────────────────────────────────────────\n",
      "────────────────────────────────────────────────────────────────────────────────────────────────────\n",
      "🧬 Tipos de datos por columna:\n"
     ]
    },
    {
     "data": {
      "application/vnd.microsoft.datawrangler.viewer.v0+json": {
       "columns": [
        {
         "name": "index",
         "rawType": "object",
         "type": "unknown"
        },
        {
         "name": "count",
         "rawType": "int64",
         "type": "integer"
        }
       ],
       "ref": "04f5ad5c-eccd-45cb-a3dc-8afafb8a0db7",
       "rows": [
        [
         "object",
         "9"
        ],
        [
         "float64",
         "4"
        ],
        [
         "int64",
         "3"
        ]
       ],
       "shape": {
        "columns": 1,
        "rows": 3
       }
      },
      "text/plain": [
       "object     9\n",
       "float64    4\n",
       "int64      3\n",
       "Name: count, dtype: int64"
      ]
     },
     "metadata": {},
     "output_type": "display_data"
    },
    {
     "name": "stdout",
     "output_type": "stream",
     "text": [
      "────────────────────────────────────────────────────────────────────────────────────────────────────\n"
     ]
    }
   ],
   "source": [
    "# EDA del segundo DataFrame\n",
    "eda_basico(df2)"
   ]
  },
  {
   "cell_type": "code",
   "execution_count": 51,
   "id": "8943dccc",
   "metadata": {},
   "outputs": [],
   "source": [
    "# Uno los DF por la columna 'Loyalty Number'con un merge\n",
    "df = pd.merge(df1, df2, on='Loyalty Number', how='left')\n"
   ]
  },
  {
   "cell_type": "code",
   "execution_count": 52,
   "id": "ffff6062",
   "metadata": {},
   "outputs": [
    {
     "name": "stdout",
     "output_type": "stream",
     "text": [
      "(405624, 25)\n"
     ]
    }
   ],
   "source": [
    "# Verifico que ha aumnetado el numero de columnas para ver si se han unido correctamente\n",
    "print(df.shape)   \n",
    "      "
   ]
  },
  {
   "cell_type": "code",
   "execution_count": 71,
   "id": "79281305",
   "metadata": {},
   "outputs": [
    {
     "name": "stdout",
     "output_type": "stream",
     "text": [
      "🌷 Ejemplo de datos del DF:\n"
     ]
    },
    {
     "data": {
      "application/vnd.microsoft.datawrangler.viewer.v0+json": {
       "columns": [
        {
         "name": "index",
         "rawType": "int64",
         "type": "integer"
        },
        {
         "name": "Loyalty Number",
         "rawType": "int64",
         "type": "integer"
        },
        {
         "name": "Year",
         "rawType": "int64",
         "type": "integer"
        },
        {
         "name": "Month",
         "rawType": "int64",
         "type": "integer"
        },
        {
         "name": "Flights Booked",
         "rawType": "int64",
         "type": "integer"
        },
        {
         "name": "Flights with Companions",
         "rawType": "int64",
         "type": "integer"
        },
        {
         "name": "Total Flights",
         "rawType": "int64",
         "type": "integer"
        },
        {
         "name": "Distance",
         "rawType": "int64",
         "type": "integer"
        },
        {
         "name": "Points Accumulated",
         "rawType": "float64",
         "type": "float"
        },
        {
         "name": "Points Redeemed",
         "rawType": "int64",
         "type": "integer"
        },
        {
         "name": "Dollar Cost Points Redeemed",
         "rawType": "int64",
         "type": "integer"
        },
        {
         "name": "Province",
         "rawType": "object",
         "type": "string"
        },
        {
         "name": "City",
         "rawType": "object",
         "type": "string"
        },
        {
         "name": "Postal Code",
         "rawType": "object",
         "type": "string"
        },
        {
         "name": "Gender",
         "rawType": "object",
         "type": "string"
        },
        {
         "name": "Education",
         "rawType": "object",
         "type": "string"
        },
        {
         "name": "Salary",
         "rawType": "float64",
         "type": "float"
        },
        {
         "name": "Marital Status",
         "rawType": "object",
         "type": "string"
        },
        {
         "name": "Loyalty Card",
         "rawType": "object",
         "type": "string"
        },
        {
         "name": "CLV",
         "rawType": "float64",
         "type": "float"
        },
        {
         "name": "Enrollment Type",
         "rawType": "object",
         "type": "string"
        },
        {
         "name": "Enrollment Year",
         "rawType": "int64",
         "type": "integer"
        },
        {
         "name": "Enrollment Month",
         "rawType": "object",
         "type": "string"
        },
        {
         "name": "Cancellation Year",
         "rawType": "int32",
         "type": "integer"
        },
        {
         "name": "Cancellation Month",
         "rawType": "object",
         "type": "string"
        },
        {
         "name": "Canceled",
         "rawType": "bool",
         "type": "boolean"
        }
       ],
       "ref": "152efc1e-0b49-4b46-a6b5-fb0a3262994f",
       "rows": [
        [
         "0",
         "100018",
         "2017",
         "1",
         "3",
         "0",
         "3",
         "1521",
         "152.0",
         "0",
         "0",
         "Alberta",
         "Edmonton",
         "T9G 1W3",
         "Female",
         "Bachelor",
         "92552.0",
         "Married",
         "Aurora",
         "7919.2",
         "Standard",
         "2016",
         "August",
         "0",
         "No",
         "False"
        ],
        [
         "1",
         "100102",
         "2017",
         "1",
         "10",
         "4",
         "14",
         "2030",
         "203.0",
         "0",
         "0",
         "Ontario",
         "Toronto",
         "M1R 4K3",
         "Male",
         "College",
         "73479.0",
         "Single",
         "Nova",
         "2887.74",
         "Standard",
         "2013",
         "March",
         "0",
         "No",
         "False"
        ],
        [
         "2",
         "100140",
         "2017",
         "1",
         "6",
         "0",
         "6",
         "1200",
         "120.0",
         "0",
         "0",
         "British Columbia",
         "Dawson Creek",
         "U5I 4F1",
         "Female",
         "College",
         "73479.0",
         "Divorced",
         "Nova",
         "2838.07",
         "Standard",
         "2016",
         "July",
         "0",
         "No",
         "False"
        ]
       ],
       "shape": {
        "columns": 25,
        "rows": 3
       }
      },
      "text/html": [
       "<div>\n",
       "<style scoped>\n",
       "    .dataframe tbody tr th:only-of-type {\n",
       "        vertical-align: middle;\n",
       "    }\n",
       "\n",
       "    .dataframe tbody tr th {\n",
       "        vertical-align: top;\n",
       "    }\n",
       "\n",
       "    .dataframe thead th {\n",
       "        text-align: right;\n",
       "    }\n",
       "</style>\n",
       "<table border=\"1\" class=\"dataframe\">\n",
       "  <thead>\n",
       "    <tr style=\"text-align: right;\">\n",
       "      <th></th>\n",
       "      <th>Loyalty Number</th>\n",
       "      <th>Year</th>\n",
       "      <th>Month</th>\n",
       "      <th>Flights Booked</th>\n",
       "      <th>Flights with Companions</th>\n",
       "      <th>Total Flights</th>\n",
       "      <th>Distance</th>\n",
       "      <th>Points Accumulated</th>\n",
       "      <th>Points Redeemed</th>\n",
       "      <th>Dollar Cost Points Redeemed</th>\n",
       "      <th>Province</th>\n",
       "      <th>City</th>\n",
       "      <th>Postal Code</th>\n",
       "      <th>Gender</th>\n",
       "      <th>Education</th>\n",
       "      <th>Salary</th>\n",
       "      <th>Marital Status</th>\n",
       "      <th>Loyalty Card</th>\n",
       "      <th>CLV</th>\n",
       "      <th>Enrollment Type</th>\n",
       "      <th>Enrollment Year</th>\n",
       "      <th>Enrollment Month</th>\n",
       "      <th>Cancellation Year</th>\n",
       "      <th>Cancellation Month</th>\n",
       "      <th>Canceled</th>\n",
       "    </tr>\n",
       "  </thead>\n",
       "  <tbody>\n",
       "    <tr>\n",
       "      <th>0</th>\n",
       "      <td>100018</td>\n",
       "      <td>2017</td>\n",
       "      <td>1</td>\n",
       "      <td>3</td>\n",
       "      <td>0</td>\n",
       "      <td>3</td>\n",
       "      <td>1521</td>\n",
       "      <td>152.0</td>\n",
       "      <td>0</td>\n",
       "      <td>0</td>\n",
       "      <td>Alberta</td>\n",
       "      <td>Edmonton</td>\n",
       "      <td>T9G 1W3</td>\n",
       "      <td>Female</td>\n",
       "      <td>Bachelor</td>\n",
       "      <td>92552.0</td>\n",
       "      <td>Married</td>\n",
       "      <td>Aurora</td>\n",
       "      <td>7919.20</td>\n",
       "      <td>Standard</td>\n",
       "      <td>2016</td>\n",
       "      <td>August</td>\n",
       "      <td>0</td>\n",
       "      <td>No</td>\n",
       "      <td>False</td>\n",
       "    </tr>\n",
       "    <tr>\n",
       "      <th>1</th>\n",
       "      <td>100102</td>\n",
       "      <td>2017</td>\n",
       "      <td>1</td>\n",
       "      <td>10</td>\n",
       "      <td>4</td>\n",
       "      <td>14</td>\n",
       "      <td>2030</td>\n",
       "      <td>203.0</td>\n",
       "      <td>0</td>\n",
       "      <td>0</td>\n",
       "      <td>Ontario</td>\n",
       "      <td>Toronto</td>\n",
       "      <td>M1R 4K3</td>\n",
       "      <td>Male</td>\n",
       "      <td>College</td>\n",
       "      <td>73479.0</td>\n",
       "      <td>Single</td>\n",
       "      <td>Nova</td>\n",
       "      <td>2887.74</td>\n",
       "      <td>Standard</td>\n",
       "      <td>2013</td>\n",
       "      <td>March</td>\n",
       "      <td>0</td>\n",
       "      <td>No</td>\n",
       "      <td>False</td>\n",
       "    </tr>\n",
       "    <tr>\n",
       "      <th>2</th>\n",
       "      <td>100140</td>\n",
       "      <td>2017</td>\n",
       "      <td>1</td>\n",
       "      <td>6</td>\n",
       "      <td>0</td>\n",
       "      <td>6</td>\n",
       "      <td>1200</td>\n",
       "      <td>120.0</td>\n",
       "      <td>0</td>\n",
       "      <td>0</td>\n",
       "      <td>British Columbia</td>\n",
       "      <td>Dawson Creek</td>\n",
       "      <td>U5I 4F1</td>\n",
       "      <td>Female</td>\n",
       "      <td>College</td>\n",
       "      <td>73479.0</td>\n",
       "      <td>Divorced</td>\n",
       "      <td>Nova</td>\n",
       "      <td>2838.07</td>\n",
       "      <td>Standard</td>\n",
       "      <td>2016</td>\n",
       "      <td>July</td>\n",
       "      <td>0</td>\n",
       "      <td>No</td>\n",
       "      <td>False</td>\n",
       "    </tr>\n",
       "  </tbody>\n",
       "</table>\n",
       "</div>"
      ],
      "text/plain": [
       "   Loyalty Number  Year  Month  Flights Booked  Flights with Companions  \\\n",
       "0          100018  2017      1               3                        0   \n",
       "1          100102  2017      1              10                        4   \n",
       "2          100140  2017      1               6                        0   \n",
       "\n",
       "   Total Flights  Distance  Points Accumulated  Points Redeemed  \\\n",
       "0              3      1521               152.0                0   \n",
       "1             14      2030               203.0                0   \n",
       "2              6      1200               120.0                0   \n",
       "\n",
       "   Dollar Cost Points Redeemed          Province          City Postal Code  \\\n",
       "0                            0           Alberta      Edmonton     T9G 1W3   \n",
       "1                            0           Ontario       Toronto     M1R 4K3   \n",
       "2                            0  British Columbia  Dawson Creek     U5I 4F1   \n",
       "\n",
       "   Gender Education   Salary Marital Status Loyalty Card      CLV  \\\n",
       "0  Female  Bachelor  92552.0        Married       Aurora  7919.20   \n",
       "1    Male   College  73479.0         Single         Nova  2887.74   \n",
       "2  Female   College  73479.0       Divorced         Nova  2838.07   \n",
       "\n",
       "  Enrollment Type  Enrollment Year Enrollment Month  Cancellation Year  \\\n",
       "0        Standard             2016           August                  0   \n",
       "1        Standard             2013            March                  0   \n",
       "2        Standard             2016             July                  0   \n",
       "\n",
       "  Cancellation Month  Canceled  \n",
       "0                 No     False  \n",
       "1                 No     False  \n",
       "2                 No     False  "
      ]
     },
     "metadata": {},
     "output_type": "display_data"
    },
    {
     "data": {
      "application/vnd.microsoft.datawrangler.viewer.v0+json": {
       "columns": [
        {
         "name": "index",
         "rawType": "int64",
         "type": "integer"
        },
        {
         "name": "Loyalty Number",
         "rawType": "int64",
         "type": "integer"
        },
        {
         "name": "Year",
         "rawType": "int64",
         "type": "integer"
        },
        {
         "name": "Month",
         "rawType": "int64",
         "type": "integer"
        },
        {
         "name": "Flights Booked",
         "rawType": "int64",
         "type": "integer"
        },
        {
         "name": "Flights with Companions",
         "rawType": "int64",
         "type": "integer"
        },
        {
         "name": "Total Flights",
         "rawType": "int64",
         "type": "integer"
        },
        {
         "name": "Distance",
         "rawType": "int64",
         "type": "integer"
        },
        {
         "name": "Points Accumulated",
         "rawType": "float64",
         "type": "float"
        },
        {
         "name": "Points Redeemed",
         "rawType": "int64",
         "type": "integer"
        },
        {
         "name": "Dollar Cost Points Redeemed",
         "rawType": "int64",
         "type": "integer"
        },
        {
         "name": "Province",
         "rawType": "object",
         "type": "string"
        },
        {
         "name": "City",
         "rawType": "object",
         "type": "string"
        },
        {
         "name": "Postal Code",
         "rawType": "object",
         "type": "string"
        },
        {
         "name": "Gender",
         "rawType": "object",
         "type": "string"
        },
        {
         "name": "Education",
         "rawType": "object",
         "type": "string"
        },
        {
         "name": "Salary",
         "rawType": "float64",
         "type": "float"
        },
        {
         "name": "Marital Status",
         "rawType": "object",
         "type": "string"
        },
        {
         "name": "Loyalty Card",
         "rawType": "object",
         "type": "string"
        },
        {
         "name": "CLV",
         "rawType": "float64",
         "type": "float"
        },
        {
         "name": "Enrollment Type",
         "rawType": "object",
         "type": "string"
        },
        {
         "name": "Enrollment Year",
         "rawType": "int64",
         "type": "integer"
        },
        {
         "name": "Enrollment Month",
         "rawType": "object",
         "type": "string"
        },
        {
         "name": "Cancellation Year",
         "rawType": "int32",
         "type": "integer"
        },
        {
         "name": "Cancellation Month",
         "rawType": "object",
         "type": "string"
        },
        {
         "name": "Canceled",
         "rawType": "bool",
         "type": "boolean"
        }
       ],
       "ref": "4bbac2a7-85ea-4771-80a2-d28990d1b395",
       "rows": [
        [
         "403757",
         "999940",
         "2018",
         "12",
         "3",
         "0",
         "3",
         "1233",
         "123.0",
         "0",
         "0",
         "Quebec",
         "Quebec City",
         "G1B 3L5",
         "Female",
         "Bachelor",
         "47670.0",
         "Married",
         "Nova",
         "20266.5",
         "Standard",
         "2017",
         "July",
         "0",
         "No",
         "False"
        ],
        [
         "403758",
         "999982",
         "2018",
         "12",
         "0",
         "0",
         "0",
         "0",
         "0.0",
         "0",
         "0",
         "British Columbia",
         "Victoria",
         "V10 6T5",
         "Male",
         "College",
         "73479.0",
         "Married",
         "Star",
         "2631.56",
         "Standard",
         "2018",
         "July",
         "0",
         "No",
         "False"
        ],
        [
         "403759",
         "999986",
         "2018",
         "12",
         "0",
         "0",
         "0",
         "0",
         "0.0",
         "0",
         "0",
         "Ontario",
         "Ottawa",
         "K1F 2R2",
         "Female",
         "Bachelor",
         "46594.0",
         "Married",
         "Nova",
         "8257.01",
         "2018 Promotion",
         "2018",
         "February",
         "0",
         "No",
         "False"
        ]
       ],
       "shape": {
        "columns": 25,
        "rows": 3
       }
      },
      "text/html": [
       "<div>\n",
       "<style scoped>\n",
       "    .dataframe tbody tr th:only-of-type {\n",
       "        vertical-align: middle;\n",
       "    }\n",
       "\n",
       "    .dataframe tbody tr th {\n",
       "        vertical-align: top;\n",
       "    }\n",
       "\n",
       "    .dataframe thead th {\n",
       "        text-align: right;\n",
       "    }\n",
       "</style>\n",
       "<table border=\"1\" class=\"dataframe\">\n",
       "  <thead>\n",
       "    <tr style=\"text-align: right;\">\n",
       "      <th></th>\n",
       "      <th>Loyalty Number</th>\n",
       "      <th>Year</th>\n",
       "      <th>Month</th>\n",
       "      <th>Flights Booked</th>\n",
       "      <th>Flights with Companions</th>\n",
       "      <th>Total Flights</th>\n",
       "      <th>Distance</th>\n",
       "      <th>Points Accumulated</th>\n",
       "      <th>Points Redeemed</th>\n",
       "      <th>Dollar Cost Points Redeemed</th>\n",
       "      <th>Province</th>\n",
       "      <th>City</th>\n",
       "      <th>Postal Code</th>\n",
       "      <th>Gender</th>\n",
       "      <th>Education</th>\n",
       "      <th>Salary</th>\n",
       "      <th>Marital Status</th>\n",
       "      <th>Loyalty Card</th>\n",
       "      <th>CLV</th>\n",
       "      <th>Enrollment Type</th>\n",
       "      <th>Enrollment Year</th>\n",
       "      <th>Enrollment Month</th>\n",
       "      <th>Cancellation Year</th>\n",
       "      <th>Cancellation Month</th>\n",
       "      <th>Canceled</th>\n",
       "    </tr>\n",
       "  </thead>\n",
       "  <tbody>\n",
       "    <tr>\n",
       "      <th>403757</th>\n",
       "      <td>999940</td>\n",
       "      <td>2018</td>\n",
       "      <td>12</td>\n",
       "      <td>3</td>\n",
       "      <td>0</td>\n",
       "      <td>3</td>\n",
       "      <td>1233</td>\n",
       "      <td>123.0</td>\n",
       "      <td>0</td>\n",
       "      <td>0</td>\n",
       "      <td>Quebec</td>\n",
       "      <td>Quebec City</td>\n",
       "      <td>G1B 3L5</td>\n",
       "      <td>Female</td>\n",
       "      <td>Bachelor</td>\n",
       "      <td>47670.0</td>\n",
       "      <td>Married</td>\n",
       "      <td>Nova</td>\n",
       "      <td>20266.50</td>\n",
       "      <td>Standard</td>\n",
       "      <td>2017</td>\n",
       "      <td>July</td>\n",
       "      <td>0</td>\n",
       "      <td>No</td>\n",
       "      <td>False</td>\n",
       "    </tr>\n",
       "    <tr>\n",
       "      <th>403758</th>\n",
       "      <td>999982</td>\n",
       "      <td>2018</td>\n",
       "      <td>12</td>\n",
       "      <td>0</td>\n",
       "      <td>0</td>\n",
       "      <td>0</td>\n",
       "      <td>0</td>\n",
       "      <td>0.0</td>\n",
       "      <td>0</td>\n",
       "      <td>0</td>\n",
       "      <td>British Columbia</td>\n",
       "      <td>Victoria</td>\n",
       "      <td>V10 6T5</td>\n",
       "      <td>Male</td>\n",
       "      <td>College</td>\n",
       "      <td>73479.0</td>\n",
       "      <td>Married</td>\n",
       "      <td>Star</td>\n",
       "      <td>2631.56</td>\n",
       "      <td>Standard</td>\n",
       "      <td>2018</td>\n",
       "      <td>July</td>\n",
       "      <td>0</td>\n",
       "      <td>No</td>\n",
       "      <td>False</td>\n",
       "    </tr>\n",
       "    <tr>\n",
       "      <th>403759</th>\n",
       "      <td>999986</td>\n",
       "      <td>2018</td>\n",
       "      <td>12</td>\n",
       "      <td>0</td>\n",
       "      <td>0</td>\n",
       "      <td>0</td>\n",
       "      <td>0</td>\n",
       "      <td>0.0</td>\n",
       "      <td>0</td>\n",
       "      <td>0</td>\n",
       "      <td>Ontario</td>\n",
       "      <td>Ottawa</td>\n",
       "      <td>K1F 2R2</td>\n",
       "      <td>Female</td>\n",
       "      <td>Bachelor</td>\n",
       "      <td>46594.0</td>\n",
       "      <td>Married</td>\n",
       "      <td>Nova</td>\n",
       "      <td>8257.01</td>\n",
       "      <td>2018 Promotion</td>\n",
       "      <td>2018</td>\n",
       "      <td>February</td>\n",
       "      <td>0</td>\n",
       "      <td>No</td>\n",
       "      <td>False</td>\n",
       "    </tr>\n",
       "  </tbody>\n",
       "</table>\n",
       "</div>"
      ],
      "text/plain": [
       "        Loyalty Number  Year  Month  Flights Booked  Flights with Companions  \\\n",
       "403757          999940  2018     12               3                        0   \n",
       "403758          999982  2018     12               0                        0   \n",
       "403759          999986  2018     12               0                        0   \n",
       "\n",
       "        Total Flights  Distance  Points Accumulated  Points Redeemed  \\\n",
       "403757              3      1233               123.0                0   \n",
       "403758              0         0                 0.0                0   \n",
       "403759              0         0                 0.0                0   \n",
       "\n",
       "        Dollar Cost Points Redeemed          Province         City  \\\n",
       "403757                            0            Quebec  Quebec City   \n",
       "403758                            0  British Columbia     Victoria   \n",
       "403759                            0           Ontario       Ottawa   \n",
       "\n",
       "       Postal Code  Gender Education   Salary Marital Status Loyalty Card  \\\n",
       "403757     G1B 3L5  Female  Bachelor  47670.0        Married         Nova   \n",
       "403758     V10 6T5    Male   College  73479.0        Married         Star   \n",
       "403759     K1F 2R2  Female  Bachelor  46594.0        Married         Nova   \n",
       "\n",
       "             CLV Enrollment Type  Enrollment Year Enrollment Month  \\\n",
       "403757  20266.50        Standard             2017             July   \n",
       "403758   2631.56        Standard             2018             July   \n",
       "403759   8257.01  2018 Promotion             2018         February   \n",
       "\n",
       "        Cancellation Year Cancellation Month  Canceled  \n",
       "403757                  0                 No     False  \n",
       "403758                  0                 No     False  \n",
       "403759                  0                 No     False  "
      ]
     },
     "metadata": {},
     "output_type": "display_data"
    },
    {
     "data": {
      "application/vnd.microsoft.datawrangler.viewer.v0+json": {
       "columns": [
        {
         "name": "index",
         "rawType": "int64",
         "type": "integer"
        },
        {
         "name": "Loyalty Number",
         "rawType": "int64",
         "type": "integer"
        },
        {
         "name": "Year",
         "rawType": "int64",
         "type": "integer"
        },
        {
         "name": "Month",
         "rawType": "int64",
         "type": "integer"
        },
        {
         "name": "Flights Booked",
         "rawType": "int64",
         "type": "integer"
        },
        {
         "name": "Flights with Companions",
         "rawType": "int64",
         "type": "integer"
        },
        {
         "name": "Total Flights",
         "rawType": "int64",
         "type": "integer"
        },
        {
         "name": "Distance",
         "rawType": "int64",
         "type": "integer"
        },
        {
         "name": "Points Accumulated",
         "rawType": "float64",
         "type": "float"
        },
        {
         "name": "Points Redeemed",
         "rawType": "int64",
         "type": "integer"
        },
        {
         "name": "Dollar Cost Points Redeemed",
         "rawType": "int64",
         "type": "integer"
        },
        {
         "name": "Province",
         "rawType": "object",
         "type": "string"
        },
        {
         "name": "City",
         "rawType": "object",
         "type": "string"
        },
        {
         "name": "Postal Code",
         "rawType": "object",
         "type": "string"
        },
        {
         "name": "Gender",
         "rawType": "object",
         "type": "string"
        },
        {
         "name": "Education",
         "rawType": "object",
         "type": "string"
        },
        {
         "name": "Salary",
         "rawType": "float64",
         "type": "float"
        },
        {
         "name": "Marital Status",
         "rawType": "object",
         "type": "string"
        },
        {
         "name": "Loyalty Card",
         "rawType": "object",
         "type": "string"
        },
        {
         "name": "CLV",
         "rawType": "float64",
         "type": "float"
        },
        {
         "name": "Enrollment Type",
         "rawType": "object",
         "type": "string"
        },
        {
         "name": "Enrollment Year",
         "rawType": "int64",
         "type": "integer"
        },
        {
         "name": "Enrollment Month",
         "rawType": "object",
         "type": "string"
        },
        {
         "name": "Cancellation Year",
         "rawType": "int32",
         "type": "integer"
        },
        {
         "name": "Cancellation Month",
         "rawType": "object",
         "type": "string"
        },
        {
         "name": "Canceled",
         "rawType": "bool",
         "type": "boolean"
        }
       ],
       "ref": "e6707c7e-06d4-4edf-9c0f-58dea7df9018",
       "rows": [
        [
         "16093",
         "962801",
         "2017",
         "1",
         "4",
         "0",
         "4",
         "1180",
         "118.0",
         "0",
         "0",
         "Alberta",
         "Calgary",
         "T3E 2V9",
         "Male",
         "College",
         "73479.0",
         "Married",
         "Star",
         "5657.03",
         "Standard",
         "2016",
         "May",
         "0",
         "No",
         "False"
        ],
        [
         "286925",
         "157674",
         "2018",
         "6",
         "17",
         "2",
         "19",
         "2242",
         "224.0",
         "0",
         "0",
         "Quebec",
         "Tremblant",
         "H5Y 2S9",
         "Female",
         "Bachelor",
         "84580.0",
         "Single",
         "Aurora",
         "8038.95",
         "Standard",
         "2013",
         "February",
         "0",
         "No",
         "False"
        ],
        [
         "93010",
         "580356",
         "2017",
         "6",
         "16",
         "0",
         "16",
         "4288",
         "428.0",
         "0",
         "0",
         "Ontario",
         "Toronto",
         "P5S 6R4",
         "Female",
         "College",
         "73479.0",
         "Single",
         "Aurora",
         "5439.34",
         "Standard",
         "2013",
         "July",
         "0",
         "No",
         "False"
        ]
       ],
       "shape": {
        "columns": 25,
        "rows": 3
       }
      },
      "text/html": [
       "<div>\n",
       "<style scoped>\n",
       "    .dataframe tbody tr th:only-of-type {\n",
       "        vertical-align: middle;\n",
       "    }\n",
       "\n",
       "    .dataframe tbody tr th {\n",
       "        vertical-align: top;\n",
       "    }\n",
       "\n",
       "    .dataframe thead th {\n",
       "        text-align: right;\n",
       "    }\n",
       "</style>\n",
       "<table border=\"1\" class=\"dataframe\">\n",
       "  <thead>\n",
       "    <tr style=\"text-align: right;\">\n",
       "      <th></th>\n",
       "      <th>Loyalty Number</th>\n",
       "      <th>Year</th>\n",
       "      <th>Month</th>\n",
       "      <th>Flights Booked</th>\n",
       "      <th>Flights with Companions</th>\n",
       "      <th>Total Flights</th>\n",
       "      <th>Distance</th>\n",
       "      <th>Points Accumulated</th>\n",
       "      <th>Points Redeemed</th>\n",
       "      <th>Dollar Cost Points Redeemed</th>\n",
       "      <th>Province</th>\n",
       "      <th>City</th>\n",
       "      <th>Postal Code</th>\n",
       "      <th>Gender</th>\n",
       "      <th>Education</th>\n",
       "      <th>Salary</th>\n",
       "      <th>Marital Status</th>\n",
       "      <th>Loyalty Card</th>\n",
       "      <th>CLV</th>\n",
       "      <th>Enrollment Type</th>\n",
       "      <th>Enrollment Year</th>\n",
       "      <th>Enrollment Month</th>\n",
       "      <th>Cancellation Year</th>\n",
       "      <th>Cancellation Month</th>\n",
       "      <th>Canceled</th>\n",
       "    </tr>\n",
       "  </thead>\n",
       "  <tbody>\n",
       "    <tr>\n",
       "      <th>16093</th>\n",
       "      <td>962801</td>\n",
       "      <td>2017</td>\n",
       "      <td>1</td>\n",
       "      <td>4</td>\n",
       "      <td>0</td>\n",
       "      <td>4</td>\n",
       "      <td>1180</td>\n",
       "      <td>118.0</td>\n",
       "      <td>0</td>\n",
       "      <td>0</td>\n",
       "      <td>Alberta</td>\n",
       "      <td>Calgary</td>\n",
       "      <td>T3E 2V9</td>\n",
       "      <td>Male</td>\n",
       "      <td>College</td>\n",
       "      <td>73479.0</td>\n",
       "      <td>Married</td>\n",
       "      <td>Star</td>\n",
       "      <td>5657.03</td>\n",
       "      <td>Standard</td>\n",
       "      <td>2016</td>\n",
       "      <td>May</td>\n",
       "      <td>0</td>\n",
       "      <td>No</td>\n",
       "      <td>False</td>\n",
       "    </tr>\n",
       "    <tr>\n",
       "      <th>286925</th>\n",
       "      <td>157674</td>\n",
       "      <td>2018</td>\n",
       "      <td>6</td>\n",
       "      <td>17</td>\n",
       "      <td>2</td>\n",
       "      <td>19</td>\n",
       "      <td>2242</td>\n",
       "      <td>224.0</td>\n",
       "      <td>0</td>\n",
       "      <td>0</td>\n",
       "      <td>Quebec</td>\n",
       "      <td>Tremblant</td>\n",
       "      <td>H5Y 2S9</td>\n",
       "      <td>Female</td>\n",
       "      <td>Bachelor</td>\n",
       "      <td>84580.0</td>\n",
       "      <td>Single</td>\n",
       "      <td>Aurora</td>\n",
       "      <td>8038.95</td>\n",
       "      <td>Standard</td>\n",
       "      <td>2013</td>\n",
       "      <td>February</td>\n",
       "      <td>0</td>\n",
       "      <td>No</td>\n",
       "      <td>False</td>\n",
       "    </tr>\n",
       "    <tr>\n",
       "      <th>93010</th>\n",
       "      <td>580356</td>\n",
       "      <td>2017</td>\n",
       "      <td>6</td>\n",
       "      <td>16</td>\n",
       "      <td>0</td>\n",
       "      <td>16</td>\n",
       "      <td>4288</td>\n",
       "      <td>428.0</td>\n",
       "      <td>0</td>\n",
       "      <td>0</td>\n",
       "      <td>Ontario</td>\n",
       "      <td>Toronto</td>\n",
       "      <td>P5S 6R4</td>\n",
       "      <td>Female</td>\n",
       "      <td>College</td>\n",
       "      <td>73479.0</td>\n",
       "      <td>Single</td>\n",
       "      <td>Aurora</td>\n",
       "      <td>5439.34</td>\n",
       "      <td>Standard</td>\n",
       "      <td>2013</td>\n",
       "      <td>July</td>\n",
       "      <td>0</td>\n",
       "      <td>No</td>\n",
       "      <td>False</td>\n",
       "    </tr>\n",
       "  </tbody>\n",
       "</table>\n",
       "</div>"
      ],
      "text/plain": [
       "        Loyalty Number  Year  Month  Flights Booked  Flights with Companions  \\\n",
       "16093           962801  2017      1               4                        0   \n",
       "286925          157674  2018      6              17                        2   \n",
       "93010           580356  2017      6              16                        0   \n",
       "\n",
       "        Total Flights  Distance  Points Accumulated  Points Redeemed  \\\n",
       "16093               4      1180               118.0                0   \n",
       "286925             19      2242               224.0                0   \n",
       "93010              16      4288               428.0                0   \n",
       "\n",
       "        Dollar Cost Points Redeemed Province       City Postal Code  Gender  \\\n",
       "16093                             0  Alberta    Calgary     T3E 2V9    Male   \n",
       "286925                            0   Quebec  Tremblant     H5Y 2S9  Female   \n",
       "93010                             0  Ontario    Toronto     P5S 6R4  Female   \n",
       "\n",
       "       Education   Salary Marital Status Loyalty Card      CLV  \\\n",
       "16093    College  73479.0        Married         Star  5657.03   \n",
       "286925  Bachelor  84580.0         Single       Aurora  8038.95   \n",
       "93010    College  73479.0         Single       Aurora  5439.34   \n",
       "\n",
       "       Enrollment Type  Enrollment Year Enrollment Month  Cancellation Year  \\\n",
       "16093         Standard             2016              May                  0   \n",
       "286925        Standard             2013         February                  0   \n",
       "93010         Standard             2013             July                  0   \n",
       "\n",
       "       Cancellation Month  Canceled  \n",
       "16093                  No     False  \n",
       "286925                 No     False  \n",
       "93010                  No     False  "
      ]
     },
     "metadata": {},
     "output_type": "display_data"
    },
    {
     "name": "stdout",
     "output_type": "stream",
     "text": [
      "────────────────────────────────────────────────────────────────────────────────────────────────────\n",
      "🌻 Número de filas:\n",
      "403760\n",
      "────────────────────────────────────────────────────────────────────────────────────────────────────\n",
      "🌱 Número de columnas:\n",
      "25\n",
      "────────────────────────────────────────────────────────────────────────────────────────────────────\n",
      "🌼 Información de la tabla:\n",
      "<class 'pandas.core.frame.DataFrame'>\n",
      "RangeIndex: 403760 entries, 0 to 403759\n",
      "Data columns (total 25 columns):\n",
      " #   Column                       Non-Null Count   Dtype  \n",
      "---  ------                       --------------   -----  \n",
      " 0   Loyalty Number               403760 non-null  int64  \n",
      " 1   Year                         403760 non-null  int64  \n",
      " 2   Month                        403760 non-null  int64  \n",
      " 3   Flights Booked               403760 non-null  int64  \n",
      " 4   Flights with Companions      403760 non-null  int64  \n",
      " 5   Total Flights                403760 non-null  int64  \n",
      " 6   Distance                     403760 non-null  int64  \n",
      " 7   Points Accumulated           403760 non-null  float64\n",
      " 8   Points Redeemed              403760 non-null  int64  \n",
      " 9   Dollar Cost Points Redeemed  403760 non-null  int64  \n",
      " 10  Province                     403760 non-null  object \n",
      " 11  City                         403760 non-null  object \n",
      " 12  Postal Code                  403760 non-null  object \n",
      " 13  Gender                       403760 non-null  object \n",
      " 14  Education                    403760 non-null  object \n",
      " 15  Salary                       403760 non-null  float64\n",
      " 16  Marital Status               403760 non-null  object \n",
      " 17  Loyalty Card                 403760 non-null  object \n",
      " 18  CLV                          403760 non-null  float64\n",
      " 19  Enrollment Type              403760 non-null  object \n",
      " 20  Enrollment Year              403760 non-null  int64  \n",
      " 21  Enrollment Month             403760 non-null  object \n",
      " 22  Cancellation Year            403760 non-null  int32  \n",
      " 23  Cancellation Month           403760 non-null  object \n",
      " 24  Canceled                     403760 non-null  bool   \n",
      "dtypes: bool(1), float64(3), int32(1), int64(10), object(10)\n",
      "memory usage: 72.8+ MB\n"
     ]
    },
    {
     "data": {
      "text/plain": [
       "None"
      ]
     },
     "metadata": {},
     "output_type": "display_data"
    },
    {
     "name": "stdout",
     "output_type": "stream",
     "text": [
      "────────────────────────────────────────────────────────────────────────────────────────────────────\n",
      "🌑 Nombre de las columnas:\n",
      "['Loyalty Number', 'Year', 'Month', 'Flights Booked', 'Flights with Companions', 'Total Flights', 'Distance', 'Points Accumulated', 'Points Redeemed', 'Dollar Cost Points Redeemed', 'Province', 'City', 'Postal Code', 'Gender', 'Education', 'Salary', 'Marital Status', 'Loyalty Card', 'CLV', 'Enrollment Type', 'Enrollment Year', 'Enrollment Month', 'Cancellation Year', 'Cancellation Month', 'Canceled']\n",
      "────────────────────────────────────────────────────────────────────────────────────────────────────\n",
      "🍄 Descripción de los datos numéricos:\n"
     ]
    },
    {
     "data": {
      "application/vnd.microsoft.datawrangler.viewer.v0+json": {
       "columns": [
        {
         "name": "index",
         "rawType": "object",
         "type": "string"
        },
        {
         "name": "count",
         "rawType": "float64",
         "type": "float"
        },
        {
         "name": "mean",
         "rawType": "float64",
         "type": "float"
        },
        {
         "name": "std",
         "rawType": "float64",
         "type": "float"
        },
        {
         "name": "min",
         "rawType": "float64",
         "type": "float"
        },
        {
         "name": "25%",
         "rawType": "float64",
         "type": "float"
        },
        {
         "name": "50%",
         "rawType": "float64",
         "type": "float"
        },
        {
         "name": "75%",
         "rawType": "float64",
         "type": "float"
        },
        {
         "name": "max",
         "rawType": "float64",
         "type": "float"
        }
       ],
       "ref": "01b3c1a2-532f-4df4-98cf-8b30ec3db400",
       "rows": [
        [
         "Loyalty Number",
         "403760.0",
         "549875.3837130968",
         "258961.5146835717",
         "100018.0",
         "326699.0",
         "550598.0",
         "772152.0",
         "999986.0"
        ],
        [
         "Year",
         "403760.0",
         "2017.5003516940758",
         "0.5000004954919466",
         "2017.0",
         "2017.0",
         "2018.0",
         "2018.0",
         "2018.0"
        ],
        [
         "Month",
         "403760.0",
         "6.501334951456311",
         "3.451982168440357",
         "1.0",
         "4.0",
         "7.0",
         "10.0",
         "12.0"
        ],
        [
         "Flights Booked",
         "403760.0",
         "4.134049930651872",
         "5.23006372447621",
         "0.0",
         "0.0",
         "1.0",
         "8.0",
         "21.0"
        ],
        [
         "Flights with Companions",
         "403760.0",
         "1.0365687537150783",
         "2.0804715511572835",
         "0.0",
         "0.0",
         "0.0",
         "1.0",
         "11.0"
        ],
        [
         "Total Flights",
         "403760.0",
         "5.170618684366951",
         "6.526858033613927",
         "0.0",
         "0.0",
         "1.0",
         "10.0",
         "32.0"
        ],
        [
         "Distance",
         "403760.0",
         "1214.4609792946305",
         "1434.0985209588707",
         "0.0",
         "0.0",
         "525.0",
         "2342.0",
         "6293.0"
        ],
        [
         "Points Accumulated",
         "403760.0",
         "124.26376126907077",
         "146.69617864495333",
         "0.0",
         "0.0",
         "53.0",
         "240.0",
         "676.5"
        ],
        [
         "Points Redeemed",
         "403760.0",
         "30.838587279572025",
         "125.75800151162623",
         "0.0",
         "0.0",
         "0.0",
         "0.0",
         "876.0"
        ],
        [
         "Dollar Cost Points Redeemed",
         "403760.0",
         "2.495972855161482",
         "10.172033075581671",
         "0.0",
         "0.0",
         "0.0",
         "0.0",
         "71.0"
        ],
        [
         "Salary",
         "403760.0",
         "77794.7872250842",
         "30335.160797151533",
         "-58486.0",
         "63901.0",
         "73479.0",
         "82940.0",
         "407228.0"
        ],
        [
         "CLV",
         "403760.0",
         "7990.86485731623",
         "6863.317159660504",
         "1898.01",
         "3981.78",
         "5776.34",
         "8937.12",
         "83325.38"
        ],
        [
         "Enrollment Year",
         "403760.0",
         "2015.2507157717455",
         "1.979427336863653",
         "2012.0",
         "2014.0",
         "2015.0",
         "2017.0",
         "2018.0"
        ],
        [
         "Cancellation Year",
         "403760.0",
         "247.96770606300774",
         "662.2245051949164",
         "0.0",
         "0.0",
         "0.0",
         "0.0",
         "2018.0"
        ]
       ],
       "shape": {
        "columns": 8,
        "rows": 14
       }
      },
      "text/html": [
       "<div>\n",
       "<style scoped>\n",
       "    .dataframe tbody tr th:only-of-type {\n",
       "        vertical-align: middle;\n",
       "    }\n",
       "\n",
       "    .dataframe tbody tr th {\n",
       "        vertical-align: top;\n",
       "    }\n",
       "\n",
       "    .dataframe thead th {\n",
       "        text-align: right;\n",
       "    }\n",
       "</style>\n",
       "<table border=\"1\" class=\"dataframe\">\n",
       "  <thead>\n",
       "    <tr style=\"text-align: right;\">\n",
       "      <th></th>\n",
       "      <th>count</th>\n",
       "      <th>mean</th>\n",
       "      <th>std</th>\n",
       "      <th>min</th>\n",
       "      <th>25%</th>\n",
       "      <th>50%</th>\n",
       "      <th>75%</th>\n",
       "      <th>max</th>\n",
       "    </tr>\n",
       "  </thead>\n",
       "  <tbody>\n",
       "    <tr>\n",
       "      <th>Loyalty Number</th>\n",
       "      <td>403760.0</td>\n",
       "      <td>549875.383713</td>\n",
       "      <td>258961.514684</td>\n",
       "      <td>100018.00</td>\n",
       "      <td>326699.00</td>\n",
       "      <td>550598.00</td>\n",
       "      <td>772152.00</td>\n",
       "      <td>999986.00</td>\n",
       "    </tr>\n",
       "    <tr>\n",
       "      <th>Year</th>\n",
       "      <td>403760.0</td>\n",
       "      <td>2017.500352</td>\n",
       "      <td>0.500000</td>\n",
       "      <td>2017.00</td>\n",
       "      <td>2017.00</td>\n",
       "      <td>2018.00</td>\n",
       "      <td>2018.00</td>\n",
       "      <td>2018.00</td>\n",
       "    </tr>\n",
       "    <tr>\n",
       "      <th>Month</th>\n",
       "      <td>403760.0</td>\n",
       "      <td>6.501335</td>\n",
       "      <td>3.451982</td>\n",
       "      <td>1.00</td>\n",
       "      <td>4.00</td>\n",
       "      <td>7.00</td>\n",
       "      <td>10.00</td>\n",
       "      <td>12.00</td>\n",
       "    </tr>\n",
       "    <tr>\n",
       "      <th>Flights Booked</th>\n",
       "      <td>403760.0</td>\n",
       "      <td>4.134050</td>\n",
       "      <td>5.230064</td>\n",
       "      <td>0.00</td>\n",
       "      <td>0.00</td>\n",
       "      <td>1.00</td>\n",
       "      <td>8.00</td>\n",
       "      <td>21.00</td>\n",
       "    </tr>\n",
       "    <tr>\n",
       "      <th>Flights with Companions</th>\n",
       "      <td>403760.0</td>\n",
       "      <td>1.036569</td>\n",
       "      <td>2.080472</td>\n",
       "      <td>0.00</td>\n",
       "      <td>0.00</td>\n",
       "      <td>0.00</td>\n",
       "      <td>1.00</td>\n",
       "      <td>11.00</td>\n",
       "    </tr>\n",
       "    <tr>\n",
       "      <th>Total Flights</th>\n",
       "      <td>403760.0</td>\n",
       "      <td>5.170619</td>\n",
       "      <td>6.526858</td>\n",
       "      <td>0.00</td>\n",
       "      <td>0.00</td>\n",
       "      <td>1.00</td>\n",
       "      <td>10.00</td>\n",
       "      <td>32.00</td>\n",
       "    </tr>\n",
       "    <tr>\n",
       "      <th>Distance</th>\n",
       "      <td>403760.0</td>\n",
       "      <td>1214.460979</td>\n",
       "      <td>1434.098521</td>\n",
       "      <td>0.00</td>\n",
       "      <td>0.00</td>\n",
       "      <td>525.00</td>\n",
       "      <td>2342.00</td>\n",
       "      <td>6293.00</td>\n",
       "    </tr>\n",
       "    <tr>\n",
       "      <th>Points Accumulated</th>\n",
       "      <td>403760.0</td>\n",
       "      <td>124.263761</td>\n",
       "      <td>146.696179</td>\n",
       "      <td>0.00</td>\n",
       "      <td>0.00</td>\n",
       "      <td>53.00</td>\n",
       "      <td>240.00</td>\n",
       "      <td>676.50</td>\n",
       "    </tr>\n",
       "    <tr>\n",
       "      <th>Points Redeemed</th>\n",
       "      <td>403760.0</td>\n",
       "      <td>30.838587</td>\n",
       "      <td>125.758002</td>\n",
       "      <td>0.00</td>\n",
       "      <td>0.00</td>\n",
       "      <td>0.00</td>\n",
       "      <td>0.00</td>\n",
       "      <td>876.00</td>\n",
       "    </tr>\n",
       "    <tr>\n",
       "      <th>Dollar Cost Points Redeemed</th>\n",
       "      <td>403760.0</td>\n",
       "      <td>2.495973</td>\n",
       "      <td>10.172033</td>\n",
       "      <td>0.00</td>\n",
       "      <td>0.00</td>\n",
       "      <td>0.00</td>\n",
       "      <td>0.00</td>\n",
       "      <td>71.00</td>\n",
       "    </tr>\n",
       "    <tr>\n",
       "      <th>Salary</th>\n",
       "      <td>403760.0</td>\n",
       "      <td>77794.787225</td>\n",
       "      <td>30335.160797</td>\n",
       "      <td>-58486.00</td>\n",
       "      <td>63901.00</td>\n",
       "      <td>73479.00</td>\n",
       "      <td>82940.00</td>\n",
       "      <td>407228.00</td>\n",
       "    </tr>\n",
       "    <tr>\n",
       "      <th>CLV</th>\n",
       "      <td>403760.0</td>\n",
       "      <td>7990.864857</td>\n",
       "      <td>6863.317160</td>\n",
       "      <td>1898.01</td>\n",
       "      <td>3981.78</td>\n",
       "      <td>5776.34</td>\n",
       "      <td>8937.12</td>\n",
       "      <td>83325.38</td>\n",
       "    </tr>\n",
       "    <tr>\n",
       "      <th>Enrollment Year</th>\n",
       "      <td>403760.0</td>\n",
       "      <td>2015.250716</td>\n",
       "      <td>1.979427</td>\n",
       "      <td>2012.00</td>\n",
       "      <td>2014.00</td>\n",
       "      <td>2015.00</td>\n",
       "      <td>2017.00</td>\n",
       "      <td>2018.00</td>\n",
       "    </tr>\n",
       "    <tr>\n",
       "      <th>Cancellation Year</th>\n",
       "      <td>403760.0</td>\n",
       "      <td>247.967706</td>\n",
       "      <td>662.224505</td>\n",
       "      <td>0.00</td>\n",
       "      <td>0.00</td>\n",
       "      <td>0.00</td>\n",
       "      <td>0.00</td>\n",
       "      <td>2018.00</td>\n",
       "    </tr>\n",
       "  </tbody>\n",
       "</table>\n",
       "</div>"
      ],
      "text/plain": [
       "                                count           mean            std  \\\n",
       "Loyalty Number               403760.0  549875.383713  258961.514684   \n",
       "Year                         403760.0    2017.500352       0.500000   \n",
       "Month                        403760.0       6.501335       3.451982   \n",
       "Flights Booked               403760.0       4.134050       5.230064   \n",
       "Flights with Companions      403760.0       1.036569       2.080472   \n",
       "Total Flights                403760.0       5.170619       6.526858   \n",
       "Distance                     403760.0    1214.460979    1434.098521   \n",
       "Points Accumulated           403760.0     124.263761     146.696179   \n",
       "Points Redeemed              403760.0      30.838587     125.758002   \n",
       "Dollar Cost Points Redeemed  403760.0       2.495973      10.172033   \n",
       "Salary                       403760.0   77794.787225   30335.160797   \n",
       "CLV                          403760.0    7990.864857    6863.317160   \n",
       "Enrollment Year              403760.0    2015.250716       1.979427   \n",
       "Cancellation Year            403760.0     247.967706     662.224505   \n",
       "\n",
       "                                   min        25%        50%        75%  \\\n",
       "Loyalty Number               100018.00  326699.00  550598.00  772152.00   \n",
       "Year                           2017.00    2017.00    2018.00    2018.00   \n",
       "Month                             1.00       4.00       7.00      10.00   \n",
       "Flights Booked                    0.00       0.00       1.00       8.00   \n",
       "Flights with Companions           0.00       0.00       0.00       1.00   \n",
       "Total Flights                     0.00       0.00       1.00      10.00   \n",
       "Distance                          0.00       0.00     525.00    2342.00   \n",
       "Points Accumulated                0.00       0.00      53.00     240.00   \n",
       "Points Redeemed                   0.00       0.00       0.00       0.00   \n",
       "Dollar Cost Points Redeemed       0.00       0.00       0.00       0.00   \n",
       "Salary                       -58486.00   63901.00   73479.00   82940.00   \n",
       "CLV                            1898.01    3981.78    5776.34    8937.12   \n",
       "Enrollment Year                2012.00    2014.00    2015.00    2017.00   \n",
       "Cancellation Year                 0.00       0.00       0.00       0.00   \n",
       "\n",
       "                                   max  \n",
       "Loyalty Number               999986.00  \n",
       "Year                           2018.00  \n",
       "Month                            12.00  \n",
       "Flights Booked                   21.00  \n",
       "Flights with Companions          11.00  \n",
       "Total Flights                    32.00  \n",
       "Distance                       6293.00  \n",
       "Points Accumulated              676.50  \n",
       "Points Redeemed                 876.00  \n",
       "Dollar Cost Points Redeemed      71.00  \n",
       "Salary                       407228.00  \n",
       "CLV                           83325.38  \n",
       "Enrollment Year                2018.00  \n",
       "Cancellation Year              2018.00  "
      ]
     },
     "metadata": {},
     "output_type": "display_data"
    },
    {
     "name": "stdout",
     "output_type": "stream",
     "text": [
      "────────────────────────────────────────────────────────────────────────────────────────────────────\n",
      "🌋 Descripción de los datos no-numéricos:\n"
     ]
    },
    {
     "data": {
      "application/vnd.microsoft.datawrangler.viewer.v0+json": {
       "columns": [
        {
         "name": "index",
         "rawType": "object",
         "type": "string"
        },
        {
         "name": "count",
         "rawType": "object",
         "type": "unknown"
        },
        {
         "name": "unique",
         "rawType": "object",
         "type": "unknown"
        },
        {
         "name": "top",
         "rawType": "object",
         "type": "string"
        },
        {
         "name": "freq",
         "rawType": "object",
         "type": "unknown"
        }
       ],
       "ref": "ed6d2205-8891-477d-aef1-17ab5615b2fe",
       "rows": [
        [
         "Province",
         "403760",
         "11",
         "Ontario",
         "130258"
        ],
        [
         "City",
         "403760",
         "29",
         "Toronto",
         "80775"
        ],
        [
         "Postal Code",
         "403760",
         "55",
         "V6E 3D9",
         "21944"
        ],
        [
         "Gender",
         "403760",
         "2",
         "Female",
         "202757"
        ],
        [
         "Education",
         "403760",
         "5",
         "Bachelor",
         "252567"
        ],
        [
         "Marital Status",
         "403760",
         "3",
         "Married",
         "234845"
        ],
        [
         "Loyalty Card",
         "403760",
         "3",
         "Star",
         "183745"
        ],
        [
         "Enrollment Type",
         "403760",
         "2",
         "Standard",
         "380419"
        ],
        [
         "Enrollment Month",
         "403760",
         "12",
         "May",
         "36314"
        ],
        [
         "Cancellation Month",
         "403760",
         "13",
         "No",
         "354110"
        ]
       ],
       "shape": {
        "columns": 4,
        "rows": 10
       }
      },
      "text/html": [
       "<div>\n",
       "<style scoped>\n",
       "    .dataframe tbody tr th:only-of-type {\n",
       "        vertical-align: middle;\n",
       "    }\n",
       "\n",
       "    .dataframe tbody tr th {\n",
       "        vertical-align: top;\n",
       "    }\n",
       "\n",
       "    .dataframe thead th {\n",
       "        text-align: right;\n",
       "    }\n",
       "</style>\n",
       "<table border=\"1\" class=\"dataframe\">\n",
       "  <thead>\n",
       "    <tr style=\"text-align: right;\">\n",
       "      <th></th>\n",
       "      <th>count</th>\n",
       "      <th>unique</th>\n",
       "      <th>top</th>\n",
       "      <th>freq</th>\n",
       "    </tr>\n",
       "  </thead>\n",
       "  <tbody>\n",
       "    <tr>\n",
       "      <th>Province</th>\n",
       "      <td>403760</td>\n",
       "      <td>11</td>\n",
       "      <td>Ontario</td>\n",
       "      <td>130258</td>\n",
       "    </tr>\n",
       "    <tr>\n",
       "      <th>City</th>\n",
       "      <td>403760</td>\n",
       "      <td>29</td>\n",
       "      <td>Toronto</td>\n",
       "      <td>80775</td>\n",
       "    </tr>\n",
       "    <tr>\n",
       "      <th>Postal Code</th>\n",
       "      <td>403760</td>\n",
       "      <td>55</td>\n",
       "      <td>V6E 3D9</td>\n",
       "      <td>21944</td>\n",
       "    </tr>\n",
       "    <tr>\n",
       "      <th>Gender</th>\n",
       "      <td>403760</td>\n",
       "      <td>2</td>\n",
       "      <td>Female</td>\n",
       "      <td>202757</td>\n",
       "    </tr>\n",
       "    <tr>\n",
       "      <th>Education</th>\n",
       "      <td>403760</td>\n",
       "      <td>5</td>\n",
       "      <td>Bachelor</td>\n",
       "      <td>252567</td>\n",
       "    </tr>\n",
       "    <tr>\n",
       "      <th>Marital Status</th>\n",
       "      <td>403760</td>\n",
       "      <td>3</td>\n",
       "      <td>Married</td>\n",
       "      <td>234845</td>\n",
       "    </tr>\n",
       "    <tr>\n",
       "      <th>Loyalty Card</th>\n",
       "      <td>403760</td>\n",
       "      <td>3</td>\n",
       "      <td>Star</td>\n",
       "      <td>183745</td>\n",
       "    </tr>\n",
       "    <tr>\n",
       "      <th>Enrollment Type</th>\n",
       "      <td>403760</td>\n",
       "      <td>2</td>\n",
       "      <td>Standard</td>\n",
       "      <td>380419</td>\n",
       "    </tr>\n",
       "    <tr>\n",
       "      <th>Enrollment Month</th>\n",
       "      <td>403760</td>\n",
       "      <td>12</td>\n",
       "      <td>May</td>\n",
       "      <td>36314</td>\n",
       "    </tr>\n",
       "    <tr>\n",
       "      <th>Cancellation Month</th>\n",
       "      <td>403760</td>\n",
       "      <td>13</td>\n",
       "      <td>No</td>\n",
       "      <td>354110</td>\n",
       "    </tr>\n",
       "  </tbody>\n",
       "</table>\n",
       "</div>"
      ],
      "text/plain": [
       "                     count unique       top    freq\n",
       "Province            403760     11   Ontario  130258\n",
       "City                403760     29   Toronto   80775\n",
       "Postal Code         403760     55   V6E 3D9   21944\n",
       "Gender              403760      2    Female  202757\n",
       "Education           403760      5  Bachelor  252567\n",
       "Marital Status      403760      3   Married  234845\n",
       "Loyalty Card        403760      3      Star  183745\n",
       "Enrollment Type     403760      2  Standard  380419\n",
       "Enrollment Month    403760     12       May   36314\n",
       "Cancellation Month  403760     13        No  354110"
      ]
     },
     "metadata": {},
     "output_type": "display_data"
    },
    {
     "name": "stdout",
     "output_type": "stream",
     "text": [
      "────────────────────────────────────────────────────────────────────────────────────────────────────\n",
      "🍂 Número de valores únicos por columna:\n"
     ]
    },
    {
     "data": {
      "application/vnd.microsoft.datawrangler.viewer.v0+json": {
       "columns": [
        {
         "name": "index",
         "rawType": "object",
         "type": "string"
        },
        {
         "name": "0",
         "rawType": "int64",
         "type": "integer"
        }
       ],
       "ref": "a41467f6-bf63-4c1a-99bd-4527a3c00bad",
       "rows": [
        [
         "Loyalty Number",
         "16737"
        ],
        [
         "Year",
         "2"
        ],
        [
         "Month",
         "12"
        ],
        [
         "Flights Booked",
         "22"
        ],
        [
         "Flights with Companions",
         "12"
        ],
        [
         "Total Flights",
         "33"
        ],
        [
         "Distance",
         "4746"
        ],
        [
         "Points Accumulated",
         "1549"
        ],
        [
         "Points Redeemed",
         "587"
        ],
        [
         "Dollar Cost Points Redeemed",
         "49"
        ],
        [
         "Province",
         "11"
        ],
        [
         "City",
         "29"
        ],
        [
         "Postal Code",
         "55"
        ],
        [
         "Gender",
         "2"
        ],
        [
         "Education",
         "5"
        ],
        [
         "Salary",
         "5890"
        ],
        [
         "Marital Status",
         "3"
        ],
        [
         "Loyalty Card",
         "3"
        ],
        [
         "CLV",
         "7984"
        ],
        [
         "Enrollment Type",
         "2"
        ],
        [
         "Enrollment Year",
         "7"
        ],
        [
         "Enrollment Month",
         "12"
        ],
        [
         "Cancellation Year",
         "7"
        ],
        [
         "Cancellation Month",
         "13"
        ],
        [
         "Canceled",
         "2"
        ]
       ],
       "shape": {
        "columns": 1,
        "rows": 25
       }
      },
      "text/plain": [
       "Loyalty Number                 16737\n",
       "Year                               2\n",
       "Month                             12\n",
       "Flights Booked                    22\n",
       "Flights with Companions           12\n",
       "Total Flights                     33\n",
       "Distance                        4746\n",
       "Points Accumulated              1549\n",
       "Points Redeemed                  587\n",
       "Dollar Cost Points Redeemed       49\n",
       "Province                          11\n",
       "City                              29\n",
       "Postal Code                       55\n",
       "Gender                             2\n",
       "Education                          5\n",
       "Salary                          5890\n",
       "Marital Status                     3\n",
       "Loyalty Card                       3\n",
       "CLV                             7984\n",
       "Enrollment Type                    2\n",
       "Enrollment Year                    7\n",
       "Enrollment Month                  12\n",
       "Cancellation Year                  7\n",
       "Cancellation Month                13\n",
       "Canceled                           2\n",
       "dtype: int64"
      ]
     },
     "metadata": {},
     "output_type": "display_data"
    },
    {
     "name": "stdout",
     "output_type": "stream",
     "text": [
      "────────────────────────────────────────────────────────────────────────────────────────────────────\n",
      "🐖 Valores nulos por columna:\n"
     ]
    },
    {
     "data": {
      "application/vnd.microsoft.datawrangler.viewer.v0+json": {
       "columns": [
        {
         "name": "index",
         "rawType": "object",
         "type": "string"
        },
        {
         "name": "0",
         "rawType": "int64",
         "type": "integer"
        }
       ],
       "ref": "c2ac899b-2746-478b-90d5-c4a215e8e7f0",
       "rows": [
        [
         "Loyalty Number",
         "0"
        ],
        [
         "Year",
         "0"
        ],
        [
         "Month",
         "0"
        ],
        [
         "Flights Booked",
         "0"
        ],
        [
         "Flights with Companions",
         "0"
        ],
        [
         "Total Flights",
         "0"
        ],
        [
         "Distance",
         "0"
        ],
        [
         "Points Accumulated",
         "0"
        ],
        [
         "Points Redeemed",
         "0"
        ],
        [
         "Dollar Cost Points Redeemed",
         "0"
        ],
        [
         "Province",
         "0"
        ],
        [
         "City",
         "0"
        ],
        [
         "Postal Code",
         "0"
        ],
        [
         "Gender",
         "0"
        ],
        [
         "Education",
         "0"
        ],
        [
         "Salary",
         "0"
        ],
        [
         "Marital Status",
         "0"
        ],
        [
         "Loyalty Card",
         "0"
        ],
        [
         "CLV",
         "0"
        ],
        [
         "Enrollment Type",
         "0"
        ],
        [
         "Enrollment Year",
         "0"
        ],
        [
         "Enrollment Month",
         "0"
        ],
        [
         "Cancellation Year",
         "0"
        ],
        [
         "Cancellation Month",
         "0"
        ],
        [
         "Canceled",
         "0"
        ]
       ],
       "shape": {
        "columns": 1,
        "rows": 25
       }
      },
      "text/plain": [
       "Loyalty Number                 0\n",
       "Year                           0\n",
       "Month                          0\n",
       "Flights Booked                 0\n",
       "Flights with Companions        0\n",
       "Total Flights                  0\n",
       "Distance                       0\n",
       "Points Accumulated             0\n",
       "Points Redeemed                0\n",
       "Dollar Cost Points Redeemed    0\n",
       "Province                       0\n",
       "City                           0\n",
       "Postal Code                    0\n",
       "Gender                         0\n",
       "Education                      0\n",
       "Salary                         0\n",
       "Marital Status                 0\n",
       "Loyalty Card                   0\n",
       "CLV                            0\n",
       "Enrollment Type                0\n",
       "Enrollment Year                0\n",
       "Enrollment Month               0\n",
       "Cancellation Year              0\n",
       "Cancellation Month             0\n",
       "Canceled                       0\n",
       "dtype: int64"
      ]
     },
     "metadata": {},
     "output_type": "display_data"
    },
    {
     "name": "stdout",
     "output_type": "stream",
     "text": [
      "────────────────────────────────────────────────────────────────────────────────────────────────────\n",
      "🐲 Filas duplicadas:\n",
      "✅ No hay filas duplicadas.\n",
      "────────────────────────────────────────────────────────────────────────────────────────────────────\n",
      "🪹 Columnas constantes (solo un valor):\n",
      "✅ No hay columnas constantes.\n",
      "────────────────────────────────────────────────────────────────────────────────────────────────────\n",
      "🚀 Valores únicos en columnas categóricas:\n",
      "🔸 Province\n",
      "['Alberta' 'Ontario' 'British Columbia' 'Saskatchewan' 'Quebec'\n",
      " 'Newfoundland' 'Manitoba' 'New Brunswick' 'Nova Scotia'\n",
      " 'Prince Edward Island' 'Yukon']\n",
      "────────────────────────────────────────────────────────────\n",
      "🔸 City\n",
      "['Edmonton' 'Toronto' 'Dawson Creek' 'Vancouver' 'Regina' 'Montreal'\n",
      " 'Sudbury' 'Quebec City' 'Peace River' \"St. John's\" 'Tremblant' 'Ottawa'\n",
      " 'Trenton' 'Winnipeg' 'Thunder Bay' 'West Vancouver' 'Fredericton'\n",
      " 'London' 'Halifax' 'Moncton' 'Banff' 'Kingston' 'Whistler'\n",
      " 'Charlottetown' 'Hull' 'Victoria' 'Calgary' 'Kelowna' 'Whitehorse']\n",
      "────────────────────────────────────────────────────────────\n",
      "🔸 Postal Code\n",
      "['T9G 1W3' 'M1R 4K3' 'U5I 4F1' 'V5R 1W3' 'P1L 8X8' 'P1J 8T7' 'S6J 3G0'\n",
      " 'H2T 9K8' 'V6E 3D9' 'M5V 1G5' 'H2Y 4R4' 'M8Y 4K8' 'V6E 3Z3' 'G1B 3L5'\n",
      " 'T9O 2W2' 'A1C 6H9' 'H5Y 2S9' 'K1F 2R2' 'K8V 4B2' 'R3R 3T4' 'P1W 1K4'\n",
      " 'K8T 5M5' 'V6V 8Z3' 'M2M 7K8' 'E3B 2H2' 'M5B 3E4' 'H2Y 2W2' 'P5S 6R4'\n",
      " 'P2T 6G3' 'B3J 9S2' 'B3C 2M8' 'H4G 3T4' 'R6Y 4T5' 'H2T 2J6' 'M2Z 4K1'\n",
      " 'S1J 3C5' 'E1A 2A7' 'V1E 4R6' 'T4V 1D4' 'M9K 2P4' 'R2C 0M5' 'T3G 6Y6'\n",
      " 'M2M 6J7' 'V6T 1Y8' 'C1A 6E8' 'J8Y 3Z5' 'V10 6T5' 'H3T 8L4' 'T3E 2V9'\n",
      " 'V09 2E9' 'Y2K 6R0' 'K1G 4Z0' 'M2P 4F6' 'M3R 4K8' 'H3J 5I6']\n",
      "────────────────────────────────────────────────────────────\n",
      "🔸 Gender\n",
      "['Female' 'Male']\n",
      "────────────────────────────────────────────────────────────\n",
      "🔸 Education\n",
      "['Bachelor' 'College' 'Master' 'High School or Below' 'Doctor']\n",
      "────────────────────────────────────────────────────────────\n",
      "🔸 Marital Status\n",
      "['Married' 'Single' 'Divorced']\n",
      "────────────────────────────────────────────────────────────\n",
      "🔸 Loyalty Card\n",
      "['Aurora' 'Nova' 'Star']\n",
      "────────────────────────────────────────────────────────────\n",
      "🔸 Enrollment Type\n",
      "['Standard' '2018 Promotion']\n",
      "────────────────────────────────────────────────────────────\n",
      "🔸 Enrollment Month\n",
      "['August' 'March' 'July' 'January' 'September' 'May' 'October' 'February'\n",
      " 'April' 'June' 'November' 'December']\n",
      "────────────────────────────────────────────────────────────\n",
      "🔸 Cancellation Month\n",
      "['No' 'March' 'September' 'February' 'July' 'June' 'August' 'April'\n",
      " 'January' 'May' 'November' 'December' 'October']\n",
      "────────────────────────────────────────────────────────────\n",
      "────────────────────────────────────────────────────────────────────────────────────────────────────\n",
      "🧬 Tipos de datos por columna:\n"
     ]
    },
    {
     "data": {
      "application/vnd.microsoft.datawrangler.viewer.v0+json": {
       "columns": [
        {
         "name": "index",
         "rawType": "object",
         "type": "unknown"
        },
        {
         "name": "count",
         "rawType": "int64",
         "type": "integer"
        }
       ],
       "ref": "84222638-fa82-4891-953a-54e9485e7c7b",
       "rows": [
        [
         "int64",
         "10"
        ],
        [
         "object",
         "10"
        ],
        [
         "float64",
         "3"
        ],
        [
         "int32",
         "1"
        ],
        [
         "bool",
         "1"
        ]
       ],
       "shape": {
        "columns": 1,
        "rows": 5
       }
      },
      "text/plain": [
       "int64      10\n",
       "object     10\n",
       "float64     3\n",
       "int32       1\n",
       "bool        1\n",
       "Name: count, dtype: int64"
      ]
     },
     "metadata": {},
     "output_type": "display_data"
    },
    {
     "name": "stdout",
     "output_type": "stream",
     "text": [
      "────────────────────────────────────────────────────────────────────────────────────────────────────\n"
     ]
    }
   ],
   "source": [
    "# EDA del DataFrame combinado\n",
    "eda_basico(df)"
   ]
  },
  {
   "cell_type": "markdown",
   "id": "7f5dd6d4",
   "metadata": {},
   "source": [
    "# Limpieza y transformación de datos"
   ]
  },
  {
   "cell_type": "markdown",
   "id": "f6eece8c",
   "metadata": {},
   "source": [
    "Columnas con nulos\n",
    " - Salary (Numérica)\n",
    " - Cancellation Year (Numérica)\n",
    " - Cancellation Month (Numerica) \n",
    "\n",
    "Variable constante \n",
    " - Country\n",
    "\n",
    "Filas duplicadas "
   ]
  },
  {
   "cell_type": "code",
   "execution_count": 70,
   "id": "55288515",
   "metadata": {},
   "outputs": [],
   "source": [
    "# Uso SimpleImputer para imputar valores nulos en la columna 'Salary'\n",
    "# -----------------------------------------------------------------------\n",
    "\n",
    "# Selecciono las columnas que quiero usar\n",
    "columnas = ['Salary', 'Enrollment Year', 'CLV']\n",
    "df_datos = df[columnas]\n",
    "\n",
    "# Aplico SimpleImputer con la estrategia 'median'\n",
    "imputer = SimpleImputer(strategy='median')\n",
    "datos_imputados = imputer.fit_transform(df_datos)\n",
    "\n",
    "mascara = df['Salary'].isna()\n",
    "\n",
    "# Reemplazo los valores nulos en la columna 'Salary' con los datos imputados\n",
    "df.loc[mascara, 'Salary'] = datos_imputados[mascara, 0]"
   ]
  },
  {
   "cell_type": "code",
   "execution_count": 55,
   "id": "0d9e1f0c",
   "metadata": {},
   "outputs": [],
   "source": [
    "# Opción KNNImputer para imputar los valores nulos de la columna 'Salary'\n",
    "\n",
    "# Selecciono solo las columnas numéricas que considero\n",
    "#columnas = ['Salary', 'Enrollment Year', 'CLV']\n",
    "#imputer = KNNImputer(n_neighbors=3)\n",
    "\n",
    "# Aplico KNN solo sobre esas columnas\n",
    "#datos_imputados = imputer.fit_transform(df[columnas])\n",
    "\n",
    "# Creo una máscara de los valores que originalmente estaban vacíos\n",
    "#mascara = df['Salary'].isna()\n",
    "\n",
    "# Relleno solo esos valores en el DataFrame original\n",
    "#df.loc[mascara, 'Salary'] = datos_imputados[mascara, 0]\n"
   ]
  },
  {
   "cell_type": "code",
   "execution_count": null,
   "id": "5d20b2e4",
   "metadata": {},
   "outputs": [],
   "source": [
    "# Otras opcione para Salary\n",
    "\n",
    "# Convierto todos los salarios negativos absoluto\n",
    "#df['Salary'] = df['Salary'].abs()\n",
    "\n",
    "# Decido hacer la mediana de Salario\n",
    "#df['Salary'] = df['Salary'].fillna(df['Salary'].median())\n"
   ]
  },
  {
   "cell_type": "code",
   "execution_count": 57,
   "id": "4141e143",
   "metadata": {},
   "outputs": [],
   "source": [
    "# Relleno los valores nulos con 0 para conservar las parsonas que no se han dado de baja y creo una columna nueva para el análisis\n",
    "df['Cancellation Year'] = df['Cancellation Year'].fillna(0).astype(int)\n",
    "df['Cancellation Month'] = df['Cancellation Month'].fillna(0).astype(int)\n"
   ]
  },
  {
   "cell_type": "code",
   "execution_count": 72,
   "id": "a1ad26b4",
   "metadata": {},
   "outputs": [],
   "source": [
    "# Crep una columna booleana basada en si hay valor en 'Cancellation Year'\n",
    "\n",
    "df['Canceled'] = df['Cancellation Year'] > 0 # Si el año de cancelación es mayor que 0, entonces sí ha cancelado\n",
    "\n"
   ]
  },
  {
   "cell_type": "code",
   "execution_count": 59,
   "id": "56437f9c",
   "metadata": {},
   "outputs": [],
   "source": [
    "# Convierto las columnas de mes a categoricas con los nombres del mes\n",
    "\n",
    "# Diccionario para mapear números de mes a nombres de mes\n",
    "month_dict = {\n",
    "    1: 'January', 2: 'February', 3: 'March', 4: 'April',\n",
    "    5: 'May', 6: 'June', 7: 'July', 8: 'August',\n",
    "    9: 'September', 10: 'October', 11: 'November', 12: 'December'\n",
    "}\n",
    "\n",
    "# Aplico el diccionario y convierto a tipo object\n",
    "df['Enrollment Month'] = df['Enrollment Month'].map(month_dict)\n",
    "df['Enrollment Month'] = df['Enrollment Month'].astype(str)\n",
    "\n",
    "\n",
    "df['Cancellation Month'] = df['Cancellation Month'].map(month_dict)\n",
    "df['Cancellation Month'] = df['Cancellation Month'].astype(str)"
   ]
  },
  {
   "cell_type": "code",
   "execution_count": 60,
   "id": "c640fb65",
   "metadata": {},
   "outputs": [],
   "source": [
    "# Reemplazo los valores 'nan' (como texto) por 'No'\n",
    "df['Cancellation Month'] = df['Cancellation Month'].replace('nan', 'No')"
   ]
  },
  {
   "cell_type": "code",
   "execution_count": 61,
   "id": "0ae32c45",
   "metadata": {},
   "outputs": [],
   "source": [
    "# Borro filas duplicadas\n",
    "df = df.drop_duplicates()\n"
   ]
  },
  {
   "cell_type": "code",
   "execution_count": 62,
   "id": "46ee57b9",
   "metadata": {},
   "outputs": [],
   "source": [
    "# Borro la columna 'Country' ya que no aporta información relevante para el análisis\n",
    "df = df.drop(columns='Country').reset_index(drop=True)\n",
    "#"
   ]
  },
  {
   "cell_type": "markdown",
   "id": "05907d02",
   "metadata": {},
   "source": [
    "# Visualización de datos"
   ]
  },
  {
   "cell_type": "markdown",
   "id": "ef85819a",
   "metadata": {},
   "source": [
    "1.¿Cómo se distribuye la cantidad de vuelos reservados por mes durante el año?\n",
    "\n",
    "2.¿Existe una relación entre la distancia de los vuelos y los puntos acumulados por los cliente?\n",
    "\n",
    "3.¿Cuál es la distribución de los clientes por provincia o estado?\n",
    "\n",
    "4.¿Cómo se compara el salario promedio entre los diferentes niveles educativos de los clientes?\n",
    "\n",
    "5.¿Cuál es la proporción de clientes con diferentes tipos de tarjetas de fidelidad?\n",
    "\n",
    "6.¿Cómo se distribuyen los clientes según su estado civil y género?"
   ]
  },
  {
   "cell_type": "code",
   "execution_count": 63,
   "id": "198f7ac6",
   "metadata": {},
   "outputs": [
    {
     "data": {
      "image/png": "[encoded data removed]",
      "text/plain": [
       "<Figure size 1000x500 with 1 Axes>"
      ]
     },
     "metadata": {},
     "output_type": "display_data"
    }
   ],
   "source": [
    "# 1.Distribución de vuelos reservados por mes durante el año\n",
    "# -----------------------------------------------------------------------\n",
    "\n",
    "# Orden de los meses para que aparezcan bien en el gráfico\n",
    "meses_ordenados = ['January', 'February', 'March', 'April', 'May', 'June',\n",
    "                   'July', 'August', 'September', 'October', 'November', 'December']\n",
    "# Agrupar por mes y sumar los vuelos reservados\n",
    "vuelos_mes = df.groupby('Month')['Flights Booked'].sum().reset_index()\n",
    "\n",
    "# Gráfico de línea\n",
    "plt.figure(figsize=(10, 5))\n",
    "sns.lineplot(data=vuelos_mes, x= meses_ordenados, y='Flights Booked', marker='o')\n",
    "plt.title('Vuelos reservados por mes')\n",
    "plt.xlabel('Mes')\n",
    "plt.ylabel('Vuelos reservados')\n",
    "plt.xticks(rotation=45)\n",
    "plt.grid(True)\n",
    "plt.show()\n"
   ]
  },
  {
   "cell_type": "markdown",
   "id": "983ebad3",
   "metadata": {},
   "source": [
    "#### Conclusiones:\n",
    "\n",
    "- La distribución de vuelos reservados por mes muestra una clara estacionalidad. \n",
    "- El número de reservas comienza a aumentar a partir de marzo, alcanzando su punto máximo en julio. \n",
    "- Luego disminuye progresivamente hasta noviembre, con un ligero repunte en diciembre. \n",
    "- Esto sugiere que los clientes reservan más vuelos en los meses de verano, posiblemente por vacaciones, y menos en otoño.\n"
   ]
  },
  {
   "cell_type": "code",
   "execution_count": 73,
   "id": "e2c1b883",
   "metadata": {},
   "outputs": [
    {
     "data": {
      "image/png": "[encoded data removed]",
      "text/plain": [
       "<Figure size 640x480 with 1 Axes>"
      ]
     },
     "metadata": {},
     "output_type": "display_data"
    }
   ],
   "source": [
    "# 2.Relación entre puntos acumulados por distancia de vuelo\n",
    "\n",
    "sns.scatterplot(data=df, x='Distance', y='Points Accumulated', hue='Loyalty Card', alpha=0.5)\n",
    "plt.title('Puntos acumulados vs Distancia de vuelo')\n",
    "plt.xlabel('Distancia de vuelo (millas o kilómetros)')\n",
    "plt.ylabel('Puntos acumulados')\n",
    "plt.grid(True)\n",
    "plt.show()\n"
   ]
  },
  {
   "cell_type": "markdown",
   "id": "7cbee4ca",
   "metadata": {},
   "source": [
    "#### Conclusiones:\n",
    "\n",
    "- Existe una relación lineal positiva clara entre la distancia de vuelo y los puntos acumulados.\n",
    "- Cada tipo de tarjeta tiene una pendiente distinta, lo que indica que la acumulación de puntos por kilómetro/milla depende del tipo de tarjeta.\n",
    "- La tarjeta Aurora permite acumular puntos a un ritmo más alto que las otras (mayor pendiente).\n",
    "- Le sigue Nova, y por último Star, que acumula puntos más lentamente por la misma distancia.\n",
    "- Esto sugiere que Aurora ofrece mejores beneficios en cuanto a recompensas por distancia recorrida.\n",
    "- El gráfico refleja cómo el tipo de tarjeta impacta directamente en la velocidad con la que se obtienen puntos, posiblemente como estrategia de fidelización por niveles.\n",
    "\n",
    "\n"
   ]
  },
  {
   "cell_type": "code",
   "execution_count": 65,
   "id": "17019e89",
   "metadata": {},
   "outputs": [
    {
     "data": {
      "image/png": "[encoded data removed]",
      "text/plain": [
       "<Figure size 640x480 with 1 Axes>"
      ]
     },
     "metadata": {},
     "output_type": "display_data"
    }
   ],
   "source": [
    "# 3.Análisis de clientes activos por provincia\n",
    "# Filtro el DataFrame para excluir a los clientes que han cancelado\n",
    "df_activos = df[df['Canceled'] == False]\n",
    "\n",
    "# Agrupo por provincia y cuento los clientes activos\n",
    "clientes_por_provincia = df_activos['Province'].value_counts().reset_index()\n",
    "clientes_por_provincia.columns = ['Province', 'Loyalty Number']\n",
    "\n",
    "# Ordeno de mayor a menor\n",
    "clientes_por_provincia = clientes_por_provincia.sort_values(by='Loyalty Number', ascending=False)\n",
    "\n",
    "# Creo el gráfico\n",
    "sns.barplot(data=clientes_por_provincia, x='Province', y='Loyalty Number')\n",
    "plt.title('Número de clientes activos por provincia (ordenado)')\n",
    "plt.xlabel('Provincia')\n",
    "plt.ylabel('Número de clientes activos')\n",
    "plt.xticks(rotation=60)\n",
    "plt.grid(axis='y')\n",
    "plt.tight_layout()\n",
    "plt.show()\n"
   ]
  },
  {
   "cell_type": "markdown",
   "id": "597b95c3",
   "metadata": {},
   "source": [
    "#### Conclusiones:\n",
    "\n",
    "- Ontario es, con diferencia, la provincia con más clientes activos, seguida por British Columbia y Quebec.\n",
    "- Existe una gran diferencia en el número de clientes entre las primeras tres provincias y el resto.\n",
    "- Provincias menos pobladas como Yukon y Prince Edward Island tienen una cantidad mínima de clientes activos.\n",
    "- Esto sugiere una posible relación entre la población general de la provincia y el número de clientes.\n",
    "- La presencia del servicio o la campaña de captación de clientes parece estar más consolidada en las provincias grandes.\n",
    "\n"
   ]
  },
  {
   "cell_type": "code",
   "execution_count": 66,
   "id": "ca79c7e1",
   "metadata": {},
   "outputs": [
    {
     "name": "stderr",
     "output_type": "stream",
     "text": [
      "C:\\Users\\usuari\\AppData\\Local\\Temp\\ipykernel_14796\\1527328199.py:10: FutureWarning: \n",
      "\n",
      "The `ci` parameter is deprecated. Use `errorbar=None` for the same effect.\n",
      "\n",
      "  sns.barplot(data=df_salario_por_educacion, x='Salary', y='Education', ci=None, color='#2f7a9f')\n"
     ]
    },
    {
     "data": {
      "image/png": "[encoded data removed]",
      "text/plain": [
       "<Figure size 1000x700 with 1 Axes>"
      ]
     },
     "metadata": {},
     "output_type": "display_data"
    }
   ],
   "source": [
    "# 4.Salario promedio por nivel educativo\n",
    "# -----------------------------------------------------------------------\n",
    "\n",
    "df_activos = df[df['Canceled'] == False]\n",
    "df_salario_por_educacion = df_activos.groupby('Education')['Salary'].mean().reset_index()\n",
    "df_salario_por_educacion = df_salario_por_educacion.sort_values(by='Salary', ascending=False)\n",
    "\n",
    "plt.figure(figsize=(10, 7)) \n",
    "\n",
    "sns.barplot(data=df_salario_por_educacion, x='Salary', y='Education', ci=None, color='#2f7a9f')\n",
    "\n",
    "plt.title('Salario medio por nivel educativo', fontsize=16)\n",
    "plt.xlabel('Salario medio', fontsize=12)\n",
    "plt.ylabel('Nivel educativo', fontsize=12)\n",
    "plt.grid(axis='x', linestyle='--', alpha=0.6) \n",
    "plt.tight_layout() \n",
    "plt.show()"
   ]
  },
  {
   "cell_type": "markdown",
   "id": "e687b827",
   "metadata": {},
   "source": [
    "#### Conclusiones:\n",
    "\n",
    "- Existe una relación positiva entre el nivel educativo alcanzado y el salario medio.\n",
    "- Las personas con un doctorado obtienen, en promedio, el salario más alto con una diferencia clara respecto al resto.\n",
    "- Quienes tienen un máster también ganan significativamente más que los niveles inferiores.\n",
    "- Los niveles educativos intermedios como College y Bachelor presentan salarios muy similares.\n",
    "- Las personas con solo educación secundaria o inferior tienen el salario medio más bajo.\n",
    "- En general, invertir en educación superior parece estar asociado con mejores ingresos.\n"
   ]
  },
  {
   "cell_type": "code",
   "execution_count": 67,
   "id": "c5460129",
   "metadata": {},
   "outputs": [
    {
     "data": {
      "image/png": "[encoded data removed]",
      "text/plain": [
       "<Figure size 600x600 with 1 Axes>"
      ]
     },
     "metadata": {},
     "output_type": "display_data"
    }
   ],
   "source": [
    "# 5.Proporción de los distintos tipos de tarjeta de fidelidad de los clientes\n",
    "# -----------------------------------------------------------------------\n",
    "\n",
    "df_activos = df[df['Canceled'] == False]\n",
    "\n",
    "# Contar los tipos de tarjeta entre los clientes activos\n",
    "conteo_tarjetas = df_activos['Loyalty Card'].value_counts()\n",
    "\n",
    "# Gráfico de pastel\n",
    "plt.figure(figsize=(6, 6))\n",
    "plt.pie(conteo_tarjetas, labels=conteo_tarjetas.index, autopct='%1.1f%%', startangle=90)\n",
    "plt.title('Distribución de tipos de tarjeta de fidelidad')\n",
    "plt.axis('equal')  # Hace que el pastel sea redondo\n",
    "plt.show()\n"
   ]
  },
  {
   "cell_type": "markdown",
   "id": "7efc47c3",
   "metadata": {},
   "source": [
    "#### Conclusiones:\n",
    "- La tarjeta de fidelidad más común es la Star, con casi la mitad de los clientes (45.5%).\n",
    "- Le sigue la tarjeta Nova, que representa aproximadamente un tercio de los clientes (33.9%).\n",
    "- La tarjeta Aurora es la menos utilizada, con poco más del 20% de participación.\n",
    "- Esto sugiere que la mayoría de los clientes se concentran en dos tipos de tarjeta (Star y Nova).\n",
    "- Sería interesante investigar si las ventajas o beneficios ofrecidos por Star y Nova son más atractivos, o si hay campañas que influyen en su mayor uso.\n"
   ]
  },
  {
   "cell_type": "code",
   "execution_count": 68,
   "id": "bd003638",
   "metadata": {},
   "outputs": [
    {
     "data": {
      "image/png": "[encoded data removed]",
      "text/plain": [
       "<Figure size 800x500 with 1 Axes>"
      ]
     },
     "metadata": {},
     "output_type": "display_data"
    }
   ],
   "source": [
    "# 6.Distribución por género y estado civil\n",
    "# -----------------------------------------------------------------------\n",
    "# Gráfico \n",
    "plt.figure(figsize=(8, 5))\n",
    "sns.countplot(data=df, x='Marital Status', hue='Gender')\n",
    "\n",
    "# Títulos y etiquetas\n",
    "plt.title('Distribución por estado civil y género')\n",
    "plt.xlabel('Estado civil')\n",
    "plt.ylabel('Número de clientas')\n",
    "plt.grid(axis='y')\n",
    "plt.tight_layout()\n",
    "plt.show()\n"
   ]
  },
  {
   "cell_type": "markdown",
   "id": "bf3be665",
   "metadata": {},
   "source": [
    "#### Conclusiones:\n",
    "- La mayoría de los clientes están casados, tanto hombres como mujeres, con cifras prácticamente iguales.\n",
    "- El segundo grupo más numeroso es el de personas solteras, también con cantidades muy similares entre géneros.\n",
    "- Las personas divorciadas representan el grupo más pequeño, sin grandes diferencias entre hombres y mujeres.\n",
    "- En general, la variable género no parece marcar diferencias significativas en la distribución del estado civil.\n",
    "- Esto sugiere que, al menos en este conjunto de datos, el estado civil está equilibrado por género.\n"
   ]
  }
 ],
 "metadata": {
  "kernelspec": {
   "display_name": "base",
   "language": "python",
   "name": "python3"
  },
  "language_info": {
   "codemirror_mode": {
    "name": "ipython",
    "version": 3
   },
   "file_extension": ".py",
   "mimetype": "text/x-python",
   "name": "python",
   "nbconvert_exporter": "python",
   "pygments_lexer": "ipython3",
   "version": "3.12.7"
  }
 },
 "nbformat": 4,
 "nbformat_minor": 5
}
